{
 "cells": [
  {
   "cell_type": "markdown",
   "id": "0ffdb8e4",
   "metadata": {},
   "source": [
    "# [TASK 1] FRAUD DETECTION"
   ]
  },
  {
   "cell_type": "markdown",
   "id": "304054a1",
   "metadata": {},
   "source": [
    "#### Tasks to perform on the data:\n",
    "    1) Perform exploratory analysis on the datasets.\n",
    "    2) Summarise the key trends in the data, providing visualisations as necessary.\n",
    "    3) Point out the factors that are significant and insignificant in contributing to fraud.\n",
    "    4) Construct a model to predict if a customer is fraudulent based on their data.\n",
    "    5) Report on the models success and show what features as well as parameters are most important.\n"
   ]
  },
  {
   "cell_type": "code",
   "execution_count": 4,
   "id": "61b1a063",
   "metadata": {},
   "outputs": [],
   "source": [
    "import pandas as pd\n",
    "import numpy as np\n",
    "import matplotlib.pyplot as plt\n",
    "%matplotlib inline\n",
    "import seaborn as sns\n",
    "import warnings\n",
    "warnings.filterwarnings('ignore')"
   ]
  },
  {
   "cell_type": "markdown",
   "id": "cb49a9c4",
   "metadata": {},
   "source": [
    "#### Working with customer data"
   ]
  },
  {
   "cell_type": "code",
   "execution_count": 5,
   "id": "bb5544e8",
   "metadata": {},
   "outputs": [],
   "source": [
    "df1 =  pd.read_csv(\"customer_data.csv\")"
   ]
  },
  {
   "cell_type": "code",
   "execution_count": 6,
   "id": "27e814b9",
   "metadata": {},
   "outputs": [
    {
     "data": {
      "text/html": [
       "<div>\n",
       "<style scoped>\n",
       "    .dataframe tbody tr th:only-of-type {\n",
       "        vertical-align: middle;\n",
       "    }\n",
       "\n",
       "    .dataframe tbody tr th {\n",
       "        vertical-align: top;\n",
       "    }\n",
       "\n",
       "    .dataframe thead th {\n",
       "        text-align: right;\n",
       "    }\n",
       "</style>\n",
       "<table border=\"1\" class=\"dataframe\">\n",
       "  <thead>\n",
       "    <tr style=\"text-align: right;\">\n",
       "      <th></th>\n",
       "      <th>Unnamed: 0</th>\n",
       "      <th>customerEmail</th>\n",
       "      <th>customerPhone</th>\n",
       "      <th>customerDevice</th>\n",
       "      <th>customerIPAddress</th>\n",
       "      <th>customerBillingAddress</th>\n",
       "      <th>No_Transactions</th>\n",
       "      <th>No_Orders</th>\n",
       "      <th>No_Payments</th>\n",
       "      <th>Fraud</th>\n",
       "    </tr>\n",
       "  </thead>\n",
       "  <tbody>\n",
       "    <tr>\n",
       "      <th>0</th>\n",
       "      <td>0</td>\n",
       "      <td>josephhoward@yahoo.com</td>\n",
       "      <td>400-108-5415</td>\n",
       "      <td>yyeiaxpltf82440jnb3v</td>\n",
       "      <td>8.129.104.40</td>\n",
       "      <td>5493 Jones Islands\\nBrownside, CA 51896</td>\n",
       "      <td>2</td>\n",
       "      <td>2</td>\n",
       "      <td>1</td>\n",
       "      <td>False</td>\n",
       "    </tr>\n",
       "    <tr>\n",
       "      <th>1</th>\n",
       "      <td>1</td>\n",
       "      <td>evansjeffery@yahoo.com</td>\n",
       "      <td>1-788-091-7546</td>\n",
       "      <td>r0jpm7xaeqqa3kr6mzum</td>\n",
       "      <td>219.173.211.202</td>\n",
       "      <td>356 Elizabeth Inlet Suite 120\\nPort Joshuabury...</td>\n",
       "      <td>3</td>\n",
       "      <td>3</td>\n",
       "      <td>7</td>\n",
       "      <td>True</td>\n",
       "    </tr>\n",
       "    <tr>\n",
       "      <th>2</th>\n",
       "      <td>2</td>\n",
       "      <td>andersonwilliam@yahoo.com</td>\n",
       "      <td>024.420.0375</td>\n",
       "      <td>4m7h5ipl1shyavt6vv2r</td>\n",
       "      <td>67b7:3db8:67e0:3bea:b9d0:90c1:2b60:b9f0</td>\n",
       "      <td>8478 Sean Ridges Apt. 441\\nDavisberg, PR 72250</td>\n",
       "      <td>5</td>\n",
       "      <td>3</td>\n",
       "      <td>2</td>\n",
       "      <td>False</td>\n",
       "    </tr>\n",
       "    <tr>\n",
       "      <th>3</th>\n",
       "      <td>3</td>\n",
       "      <td>rubenjuarez@yahoo.com</td>\n",
       "      <td>670.664.8168x94985</td>\n",
       "      <td>slovx60t0i558may4ks0</td>\n",
       "      <td>95de:8565:5a66:792c:26e0:6cfb:7d87:11af</td>\n",
       "      <td>7769 Elizabeth Bridge Apt. 343\\nNortonstad, FM...</td>\n",
       "      <td>3</td>\n",
       "      <td>3</td>\n",
       "      <td>1</td>\n",
       "      <td>False</td>\n",
       "    </tr>\n",
       "    <tr>\n",
       "      <th>4</th>\n",
       "      <td>4</td>\n",
       "      <td>uchen@malone.com</td>\n",
       "      <td>1-981-877-0870</td>\n",
       "      <td>j0pd24k5h8dl2fqu0cz4</td>\n",
       "      <td>196.89.235.192</td>\n",
       "      <td>148 Russell Lodge Apt. 445\\nPort Jenniferside,...</td>\n",
       "      <td>7</td>\n",
       "      <td>7</td>\n",
       "      <td>6</td>\n",
       "      <td>True</td>\n",
       "    </tr>\n",
       "  </tbody>\n",
       "</table>\n",
       "</div>"
      ],
      "text/plain": [
       "   Unnamed: 0              customerEmail       customerPhone  \\\n",
       "0           0     josephhoward@yahoo.com        400-108-5415   \n",
       "1           1     evansjeffery@yahoo.com      1-788-091-7546   \n",
       "2           2  andersonwilliam@yahoo.com        024.420.0375   \n",
       "3           3      rubenjuarez@yahoo.com  670.664.8168x94985   \n",
       "4           4           uchen@malone.com      1-981-877-0870   \n",
       "\n",
       "         customerDevice                        customerIPAddress  \\\n",
       "0  yyeiaxpltf82440jnb3v                             8.129.104.40   \n",
       "1  r0jpm7xaeqqa3kr6mzum                          219.173.211.202   \n",
       "2  4m7h5ipl1shyavt6vv2r  67b7:3db8:67e0:3bea:b9d0:90c1:2b60:b9f0   \n",
       "3  slovx60t0i558may4ks0  95de:8565:5a66:792c:26e0:6cfb:7d87:11af   \n",
       "4  j0pd24k5h8dl2fqu0cz4                           196.89.235.192   \n",
       "\n",
       "                              customerBillingAddress  No_Transactions  \\\n",
       "0            5493 Jones Islands\\nBrownside, CA 51896                2   \n",
       "1  356 Elizabeth Inlet Suite 120\\nPort Joshuabury...                3   \n",
       "2     8478 Sean Ridges Apt. 441\\nDavisberg, PR 72250                5   \n",
       "3  7769 Elizabeth Bridge Apt. 343\\nNortonstad, FM...                3   \n",
       "4  148 Russell Lodge Apt. 445\\nPort Jenniferside,...                7   \n",
       "\n",
       "   No_Orders  No_Payments  Fraud  \n",
       "0          2            1  False  \n",
       "1          3            7   True  \n",
       "2          3            2  False  \n",
       "3          3            1  False  \n",
       "4          7            6   True  "
      ]
     },
     "execution_count": 6,
     "metadata": {},
     "output_type": "execute_result"
    }
   ],
   "source": [
    "df1.head()"
   ]
  },
  {
   "cell_type": "markdown",
   "id": "7f3d8482",
   "metadata": {},
   "source": [
    "#### Basic analysis"
   ]
  },
  {
   "cell_type": "code",
   "execution_count": 7,
   "id": "c72c109b",
   "metadata": {},
   "outputs": [
    {
     "name": "stdout",
     "output_type": "stream",
     "text": [
      "<class 'pandas.core.frame.DataFrame'>\n",
      "RangeIndex: 168 entries, 0 to 167\n",
      "Data columns (total 10 columns):\n",
      " #   Column                  Non-Null Count  Dtype \n",
      "---  ------                  --------------  ----- \n",
      " 0   Unnamed: 0              168 non-null    int64 \n",
      " 1   customerEmail           168 non-null    object\n",
      " 2   customerPhone           168 non-null    object\n",
      " 3   customerDevice          168 non-null    object\n",
      " 4   customerIPAddress       168 non-null    object\n",
      " 5   customerBillingAddress  168 non-null    object\n",
      " 6   No_Transactions         168 non-null    int64 \n",
      " 7   No_Orders               168 non-null    int64 \n",
      " 8   No_Payments             168 non-null    int64 \n",
      " 9   Fraud                   168 non-null    bool  \n",
      "dtypes: bool(1), int64(4), object(5)\n",
      "memory usage: 12.1+ KB\n"
     ]
    }
   ],
   "source": [
    "df1.info()"
   ]
  },
  {
   "cell_type": "code",
   "execution_count": 8,
   "id": "0c050fe9",
   "metadata": {},
   "outputs": [
    {
     "data": {
      "text/plain": [
       "(168, 10)"
      ]
     },
     "execution_count": 8,
     "metadata": {},
     "output_type": "execute_result"
    }
   ],
   "source": [
    "df1.shape"
   ]
  },
  {
   "cell_type": "code",
   "execution_count": 9,
   "id": "c09e8594",
   "metadata": {},
   "outputs": [
    {
     "data": {
      "text/html": [
       "<div>\n",
       "<style scoped>\n",
       "    .dataframe tbody tr th:only-of-type {\n",
       "        vertical-align: middle;\n",
       "    }\n",
       "\n",
       "    .dataframe tbody tr th {\n",
       "        vertical-align: top;\n",
       "    }\n",
       "\n",
       "    .dataframe thead th {\n",
       "        text-align: right;\n",
       "    }\n",
       "</style>\n",
       "<table border=\"1\" class=\"dataframe\">\n",
       "  <thead>\n",
       "    <tr style=\"text-align: right;\">\n",
       "      <th></th>\n",
       "      <th>Unnamed: 0</th>\n",
       "      <th>No_Transactions</th>\n",
       "      <th>No_Orders</th>\n",
       "      <th>No_Payments</th>\n",
       "    </tr>\n",
       "  </thead>\n",
       "  <tbody>\n",
       "    <tr>\n",
       "      <th>count</th>\n",
       "      <td>168.000000</td>\n",
       "      <td>168.000000</td>\n",
       "      <td>168.000000</td>\n",
       "      <td>168.000000</td>\n",
       "    </tr>\n",
       "    <tr>\n",
       "      <th>mean</th>\n",
       "      <td>83.500000</td>\n",
       "      <td>3.708333</td>\n",
       "      <td>2.845238</td>\n",
       "      <td>2.035714</td>\n",
       "    </tr>\n",
       "    <tr>\n",
       "      <th>std</th>\n",
       "      <td>48.641546</td>\n",
       "      <td>2.801527</td>\n",
       "      <td>1.981919</td>\n",
       "      <td>2.113240</td>\n",
       "    </tr>\n",
       "    <tr>\n",
       "      <th>min</th>\n",
       "      <td>0.000000</td>\n",
       "      <td>0.000000</td>\n",
       "      <td>0.000000</td>\n",
       "      <td>0.000000</td>\n",
       "    </tr>\n",
       "    <tr>\n",
       "      <th>25%</th>\n",
       "      <td>41.750000</td>\n",
       "      <td>1.000000</td>\n",
       "      <td>1.000000</td>\n",
       "      <td>1.000000</td>\n",
       "    </tr>\n",
       "    <tr>\n",
       "      <th>50%</th>\n",
       "      <td>83.500000</td>\n",
       "      <td>4.000000</td>\n",
       "      <td>3.000000</td>\n",
       "      <td>1.000000</td>\n",
       "    </tr>\n",
       "    <tr>\n",
       "      <th>75%</th>\n",
       "      <td>125.250000</td>\n",
       "      <td>5.000000</td>\n",
       "      <td>4.000000</td>\n",
       "      <td>2.000000</td>\n",
       "    </tr>\n",
       "    <tr>\n",
       "      <th>max</th>\n",
       "      <td>167.000000</td>\n",
       "      <td>15.000000</td>\n",
       "      <td>8.000000</td>\n",
       "      <td>15.000000</td>\n",
       "    </tr>\n",
       "  </tbody>\n",
       "</table>\n",
       "</div>"
      ],
      "text/plain": [
       "       Unnamed: 0  No_Transactions   No_Orders  No_Payments\n",
       "count  168.000000       168.000000  168.000000   168.000000\n",
       "mean    83.500000         3.708333    2.845238     2.035714\n",
       "std     48.641546         2.801527    1.981919     2.113240\n",
       "min      0.000000         0.000000    0.000000     0.000000\n",
       "25%     41.750000         1.000000    1.000000     1.000000\n",
       "50%     83.500000         4.000000    3.000000     1.000000\n",
       "75%    125.250000         5.000000    4.000000     2.000000\n",
       "max    167.000000        15.000000    8.000000    15.000000"
      ]
     },
     "execution_count": 9,
     "metadata": {},
     "output_type": "execute_result"
    }
   ],
   "source": [
    "df1.describe()"
   ]
  },
  {
   "cell_type": "markdown",
   "id": "17464387",
   "metadata": {},
   "source": [
    "#### Working with transaction data"
   ]
  },
  {
   "cell_type": "code",
   "execution_count": 10,
   "id": "db64a109",
   "metadata": {},
   "outputs": [],
   "source": [
    "df2 =  pd.read_csv(\"transaction_data.csv\")"
   ]
  },
  {
   "cell_type": "code",
   "execution_count": 11,
   "id": "4e9759bf",
   "metadata": {},
   "outputs": [
    {
     "data": {
      "text/html": [
       "<div>\n",
       "<style scoped>\n",
       "    .dataframe tbody tr th:only-of-type {\n",
       "        vertical-align: middle;\n",
       "    }\n",
       "\n",
       "    .dataframe tbody tr th {\n",
       "        vertical-align: top;\n",
       "    }\n",
       "\n",
       "    .dataframe thead th {\n",
       "        text-align: right;\n",
       "    }\n",
       "</style>\n",
       "<table border=\"1\" class=\"dataframe\">\n",
       "  <thead>\n",
       "    <tr style=\"text-align: right;\">\n",
       "      <th></th>\n",
       "      <th>Unnamed: 0</th>\n",
       "      <th>customerEmail</th>\n",
       "      <th>transactionId</th>\n",
       "      <th>orderId</th>\n",
       "      <th>paymentMethodId</th>\n",
       "      <th>paymentMethodRegistrationFailure</th>\n",
       "      <th>paymentMethodType</th>\n",
       "      <th>paymentMethodProvider</th>\n",
       "      <th>transactionAmount</th>\n",
       "      <th>transactionFailed</th>\n",
       "      <th>orderState</th>\n",
       "    </tr>\n",
       "  </thead>\n",
       "  <tbody>\n",
       "    <tr>\n",
       "      <th>0</th>\n",
       "      <td>0</td>\n",
       "      <td>josephhoward@yahoo.com</td>\n",
       "      <td>a9lcj51r</td>\n",
       "      <td>vjbdvd</td>\n",
       "      <td>wt07xm68b</td>\n",
       "      <td>1</td>\n",
       "      <td>card</td>\n",
       "      <td>JCB 16 digit</td>\n",
       "      <td>18</td>\n",
       "      <td>0</td>\n",
       "      <td>pending</td>\n",
       "    </tr>\n",
       "    <tr>\n",
       "      <th>1</th>\n",
       "      <td>1</td>\n",
       "      <td>josephhoward@yahoo.com</td>\n",
       "      <td>y4wcv03i</td>\n",
       "      <td>yp6x27</td>\n",
       "      <td>wt07xm68b</td>\n",
       "      <td>1</td>\n",
       "      <td>card</td>\n",
       "      <td>JCB 16 digit</td>\n",
       "      <td>26</td>\n",
       "      <td>0</td>\n",
       "      <td>fulfilled</td>\n",
       "    </tr>\n",
       "    <tr>\n",
       "      <th>2</th>\n",
       "      <td>2</td>\n",
       "      <td>evansjeffery@yahoo.com</td>\n",
       "      <td>5mi94sfw</td>\n",
       "      <td>nlghpa</td>\n",
       "      <td>41ug157xz</td>\n",
       "      <td>0</td>\n",
       "      <td>bitcoin</td>\n",
       "      <td>American Express</td>\n",
       "      <td>45</td>\n",
       "      <td>0</td>\n",
       "      <td>fulfilled</td>\n",
       "    </tr>\n",
       "    <tr>\n",
       "      <th>3</th>\n",
       "      <td>3</td>\n",
       "      <td>evansjeffery@yahoo.com</td>\n",
       "      <td>br8ba1nu</td>\n",
       "      <td>uw0eeb</td>\n",
       "      <td>41ug157xz</td>\n",
       "      <td>0</td>\n",
       "      <td>bitcoin</td>\n",
       "      <td>American Express</td>\n",
       "      <td>23</td>\n",
       "      <td>0</td>\n",
       "      <td>fulfilled</td>\n",
       "    </tr>\n",
       "    <tr>\n",
       "      <th>4</th>\n",
       "      <td>4</td>\n",
       "      <td>evansjeffery@yahoo.com</td>\n",
       "      <td>a33145ss</td>\n",
       "      <td>bn44oh</td>\n",
       "      <td>y3xp697jx</td>\n",
       "      <td>1</td>\n",
       "      <td>bitcoin</td>\n",
       "      <td>VISA 16 digit</td>\n",
       "      <td>43</td>\n",
       "      <td>1</td>\n",
       "      <td>fulfilled</td>\n",
       "    </tr>\n",
       "    <tr>\n",
       "      <th>...</th>\n",
       "      <td>...</td>\n",
       "      <td>...</td>\n",
       "      <td>...</td>\n",
       "      <td>...</td>\n",
       "      <td>...</td>\n",
       "      <td>...</td>\n",
       "      <td>...</td>\n",
       "      <td>...</td>\n",
       "      <td>...</td>\n",
       "      <td>...</td>\n",
       "      <td>...</td>\n",
       "    </tr>\n",
       "    <tr>\n",
       "      <th>618</th>\n",
       "      <td>618</td>\n",
       "      <td>dawn05@tucker-brown.com</td>\n",
       "      <td>7yilsi1o</td>\n",
       "      <td>1bubxa</td>\n",
       "      <td>7yen1m1q8</td>\n",
       "      <td>0</td>\n",
       "      <td>card</td>\n",
       "      <td>VISA 13 digit</td>\n",
       "      <td>25</td>\n",
       "      <td>1</td>\n",
       "      <td>fulfilled</td>\n",
       "    </tr>\n",
       "    <tr>\n",
       "      <th>619</th>\n",
       "      <td>619</td>\n",
       "      <td>dawn05@tucker-brown.com</td>\n",
       "      <td>c82k5bcv</td>\n",
       "      <td>1bubxa</td>\n",
       "      <td>7yen1m1q8</td>\n",
       "      <td>0</td>\n",
       "      <td>card</td>\n",
       "      <td>VISA 13 digit</td>\n",
       "      <td>25</td>\n",
       "      <td>0</td>\n",
       "      <td>fulfilled</td>\n",
       "    </tr>\n",
       "    <tr>\n",
       "      <th>620</th>\n",
       "      <td>620</td>\n",
       "      <td>dawn05@tucker-brown.com</td>\n",
       "      <td>wmh52bns</td>\n",
       "      <td>1bubxa</td>\n",
       "      <td>3zmkegkb8</td>\n",
       "      <td>0</td>\n",
       "      <td>paypal</td>\n",
       "      <td>JCB 15 digit</td>\n",
       "      <td>25</td>\n",
       "      <td>1</td>\n",
       "      <td>fulfilled</td>\n",
       "    </tr>\n",
       "    <tr>\n",
       "      <th>621</th>\n",
       "      <td>621</td>\n",
       "      <td>dawn05@tucker-brown.com</td>\n",
       "      <td>xdw33hfp</td>\n",
       "      <td>p0gdbf</td>\n",
       "      <td>3zmkegkb8</td>\n",
       "      <td>0</td>\n",
       "      <td>paypal</td>\n",
       "      <td>JCB 15 digit</td>\n",
       "      <td>19</td>\n",
       "      <td>0</td>\n",
       "      <td>fulfilled</td>\n",
       "    </tr>\n",
       "    <tr>\n",
       "      <th>622</th>\n",
       "      <td>622</td>\n",
       "      <td>dawn05@tucker-brown.com</td>\n",
       "      <td>wgmajf82</td>\n",
       "      <td>5lmvrj</td>\n",
       "      <td>f0xnu5om9</td>\n",
       "      <td>0</td>\n",
       "      <td>card</td>\n",
       "      <td>JCB 16 digit</td>\n",
       "      <td>27</td>\n",
       "      <td>0</td>\n",
       "      <td>fulfilled</td>\n",
       "    </tr>\n",
       "  </tbody>\n",
       "</table>\n",
       "<p>623 rows × 11 columns</p>\n",
       "</div>"
      ],
      "text/plain": [
       "     Unnamed: 0            customerEmail transactionId orderId  \\\n",
       "0             0   josephhoward@yahoo.com      a9lcj51r  vjbdvd   \n",
       "1             1   josephhoward@yahoo.com      y4wcv03i  yp6x27   \n",
       "2             2   evansjeffery@yahoo.com      5mi94sfw  nlghpa   \n",
       "3             3   evansjeffery@yahoo.com      br8ba1nu  uw0eeb   \n",
       "4             4   evansjeffery@yahoo.com      a33145ss  bn44oh   \n",
       "..          ...                      ...           ...     ...   \n",
       "618         618  dawn05@tucker-brown.com      7yilsi1o  1bubxa   \n",
       "619         619  dawn05@tucker-brown.com      c82k5bcv  1bubxa   \n",
       "620         620  dawn05@tucker-brown.com      wmh52bns  1bubxa   \n",
       "621         621  dawn05@tucker-brown.com      xdw33hfp  p0gdbf   \n",
       "622         622  dawn05@tucker-brown.com      wgmajf82  5lmvrj   \n",
       "\n",
       "    paymentMethodId  paymentMethodRegistrationFailure paymentMethodType  \\\n",
       "0         wt07xm68b                                 1              card   \n",
       "1         wt07xm68b                                 1              card   \n",
       "2         41ug157xz                                 0           bitcoin   \n",
       "3         41ug157xz                                 0           bitcoin   \n",
       "4         y3xp697jx                                 1           bitcoin   \n",
       "..              ...                               ...               ...   \n",
       "618       7yen1m1q8                                 0              card   \n",
       "619       7yen1m1q8                                 0              card   \n",
       "620       3zmkegkb8                                 0            paypal   \n",
       "621       3zmkegkb8                                 0            paypal   \n",
       "622       f0xnu5om9                                 0              card   \n",
       "\n",
       "    paymentMethodProvider  transactionAmount  transactionFailed orderState  \n",
       "0            JCB 16 digit                 18                  0    pending  \n",
       "1            JCB 16 digit                 26                  0  fulfilled  \n",
       "2        American Express                 45                  0  fulfilled  \n",
       "3        American Express                 23                  0  fulfilled  \n",
       "4           VISA 16 digit                 43                  1  fulfilled  \n",
       "..                    ...                ...                ...        ...  \n",
       "618         VISA 13 digit                 25                  1  fulfilled  \n",
       "619         VISA 13 digit                 25                  0  fulfilled  \n",
       "620          JCB 15 digit                 25                  1  fulfilled  \n",
       "621          JCB 15 digit                 19                  0  fulfilled  \n",
       "622          JCB 16 digit                 27                  0  fulfilled  \n",
       "\n",
       "[623 rows x 11 columns]"
      ]
     },
     "execution_count": 11,
     "metadata": {},
     "output_type": "execute_result"
    }
   ],
   "source": [
    "df2"
   ]
  },
  {
   "cell_type": "markdown",
   "id": "10b03476",
   "metadata": {},
   "source": [
    "#### Basic analysis"
   ]
  },
  {
   "cell_type": "code",
   "execution_count": 12,
   "id": "cbf44f5f",
   "metadata": {},
   "outputs": [
    {
     "name": "stdout",
     "output_type": "stream",
     "text": [
      "<class 'pandas.core.frame.DataFrame'>\n",
      "RangeIndex: 623 entries, 0 to 622\n",
      "Data columns (total 11 columns):\n",
      " #   Column                            Non-Null Count  Dtype \n",
      "---  ------                            --------------  ----- \n",
      " 0   Unnamed: 0                        623 non-null    int64 \n",
      " 1   customerEmail                     623 non-null    object\n",
      " 2   transactionId                     623 non-null    object\n",
      " 3   orderId                           623 non-null    object\n",
      " 4   paymentMethodId                   623 non-null    object\n",
      " 5   paymentMethodRegistrationFailure  623 non-null    int64 \n",
      " 6   paymentMethodType                 623 non-null    object\n",
      " 7   paymentMethodProvider             623 non-null    object\n",
      " 8   transactionAmount                 623 non-null    int64 \n",
      " 9   transactionFailed                 623 non-null    int64 \n",
      " 10  orderState                        623 non-null    object\n",
      "dtypes: int64(4), object(7)\n",
      "memory usage: 53.7+ KB\n"
     ]
    }
   ],
   "source": [
    "df2.info()"
   ]
  },
  {
   "cell_type": "code",
   "execution_count": 13,
   "id": "1bc85571",
   "metadata": {},
   "outputs": [
    {
     "data": {
      "text/html": [
       "<div>\n",
       "<style scoped>\n",
       "    .dataframe tbody tr th:only-of-type {\n",
       "        vertical-align: middle;\n",
       "    }\n",
       "\n",
       "    .dataframe tbody tr th {\n",
       "        vertical-align: top;\n",
       "    }\n",
       "\n",
       "    .dataframe thead th {\n",
       "        text-align: right;\n",
       "    }\n",
       "</style>\n",
       "<table border=\"1\" class=\"dataframe\">\n",
       "  <thead>\n",
       "    <tr style=\"text-align: right;\">\n",
       "      <th></th>\n",
       "      <th>Unnamed: 0</th>\n",
       "      <th>paymentMethodRegistrationFailure</th>\n",
       "      <th>transactionAmount</th>\n",
       "      <th>transactionFailed</th>\n",
       "    </tr>\n",
       "  </thead>\n",
       "  <tbody>\n",
       "    <tr>\n",
       "      <th>count</th>\n",
       "      <td>623.000000</td>\n",
       "      <td>623.000000</td>\n",
       "      <td>623.000000</td>\n",
       "      <td>623.000000</td>\n",
       "    </tr>\n",
       "    <tr>\n",
       "      <th>mean</th>\n",
       "      <td>311.000000</td>\n",
       "      <td>0.131621</td>\n",
       "      <td>34.598716</td>\n",
       "      <td>0.269663</td>\n",
       "    </tr>\n",
       "    <tr>\n",
       "      <th>std</th>\n",
       "      <td>179.988889</td>\n",
       "      <td>0.338350</td>\n",
       "      <td>20.360247</td>\n",
       "      <td>0.444141</td>\n",
       "    </tr>\n",
       "    <tr>\n",
       "      <th>min</th>\n",
       "      <td>0.000000</td>\n",
       "      <td>0.000000</td>\n",
       "      <td>10.000000</td>\n",
       "      <td>0.000000</td>\n",
       "    </tr>\n",
       "    <tr>\n",
       "      <th>25%</th>\n",
       "      <td>155.500000</td>\n",
       "      <td>0.000000</td>\n",
       "      <td>21.000000</td>\n",
       "      <td>0.000000</td>\n",
       "    </tr>\n",
       "    <tr>\n",
       "      <th>50%</th>\n",
       "      <td>311.000000</td>\n",
       "      <td>0.000000</td>\n",
       "      <td>34.000000</td>\n",
       "      <td>0.000000</td>\n",
       "    </tr>\n",
       "    <tr>\n",
       "      <th>75%</th>\n",
       "      <td>466.500000</td>\n",
       "      <td>0.000000</td>\n",
       "      <td>45.000000</td>\n",
       "      <td>1.000000</td>\n",
       "    </tr>\n",
       "    <tr>\n",
       "      <th>max</th>\n",
       "      <td>622.000000</td>\n",
       "      <td>1.000000</td>\n",
       "      <td>353.000000</td>\n",
       "      <td>1.000000</td>\n",
       "    </tr>\n",
       "  </tbody>\n",
       "</table>\n",
       "</div>"
      ],
      "text/plain": [
       "       Unnamed: 0  paymentMethodRegistrationFailure  transactionAmount  \\\n",
       "count  623.000000                        623.000000         623.000000   \n",
       "mean   311.000000                          0.131621          34.598716   \n",
       "std    179.988889                          0.338350          20.360247   \n",
       "min      0.000000                          0.000000          10.000000   \n",
       "25%    155.500000                          0.000000          21.000000   \n",
       "50%    311.000000                          0.000000          34.000000   \n",
       "75%    466.500000                          0.000000          45.000000   \n",
       "max    622.000000                          1.000000         353.000000   \n",
       "\n",
       "       transactionFailed  \n",
       "count         623.000000  \n",
       "mean            0.269663  \n",
       "std             0.444141  \n",
       "min             0.000000  \n",
       "25%             0.000000  \n",
       "50%             0.000000  \n",
       "75%             1.000000  \n",
       "max             1.000000  "
      ]
     },
     "execution_count": 13,
     "metadata": {},
     "output_type": "execute_result"
    }
   ],
   "source": [
    "df2.describe()"
   ]
  },
  {
   "cell_type": "markdown",
   "id": "c1d444a9",
   "metadata": {},
   "source": [
    "### Exploratory Data Analysis\n",
    "#### Below are the steps involved to understand, clean and prepare your data for building your predictive model:\n",
    "\n",
    "    1) Uni-variate Analysis\n",
    "    2) Bi-variate Analysis\n",
    "    3) Multi-variate Analysis"
   ]
  },
  {
   "cell_type": "markdown",
   "id": "be925e5f",
   "metadata": {},
   "source": [
    "#### LETS ANALYZE OUR TARGET VARIABLE (UNIVARIAT ANALYSIS)"
   ]
  },
  {
   "cell_type": "code",
   "execution_count": 14,
   "id": "91dbfff3",
   "metadata": {},
   "outputs": [],
   "source": [
    "df1['Fraud']=np.where(df1['Fraud']==False,0,1)"
   ]
  },
  {
   "cell_type": "code",
   "execution_count": 15,
   "id": "f18c6c1f",
   "metadata": {},
   "outputs": [
    {
     "data": {
      "text/plain": [
       "(168, 10)"
      ]
     },
     "execution_count": 15,
     "metadata": {},
     "output_type": "execute_result"
    }
   ],
   "source": [
    "df1.shape"
   ]
  },
  {
   "cell_type": "code",
   "execution_count": 16,
   "id": "5ea10077",
   "metadata": {
    "scrolled": true
   },
   "outputs": [
    {
     "data": {
      "image/png": "[encoded data removed]",
      "text/plain": [
       "<Figure size 432x288 with 1 Axes>"
      ]
     },
     "metadata": {
      "needs_background": "light"
     },
     "output_type": "display_data"
    }
   ],
   "source": [
    "ax=sns.countplot(df1['Fraud'],data = df1, palette='Spectral')\n",
    "for p in ax.patches:\n",
    "    ax.annotate(f'{p.get_height()}', (p.get_x()+0.4, p.get_height()), ha='center', va='top', color='black', size=18)\n",
    "plt.show()"
   ]
  },
  {
   "cell_type": "markdown",
   "id": "922ed8b4",
   "metadata": {},
   "source": [
    " 61 transactions are labelled as fraud and 107 as not fraud. the target is imbalance but let see the data after we combine it with transaction data"
   ]
  },
  {
   "cell_type": "markdown",
   "id": "1b0a87f0",
   "metadata": {},
   "source": [
    "### Bi-Variate Analysis\n",
    "<b>Lets compare our continous variables with our target categorical variable Fraud in df1</b>"
   ]
  },
  {
   "cell_type": "code",
   "execution_count": 17,
   "id": "2bb4bfd2",
   "metadata": {},
   "outputs": [
    {
     "data": {
      "image/png": "[encoded data removed]",
      "text/plain": [
       "<Figure size 720x432 with 1 Axes>"
      ]
     },
     "metadata": {
      "needs_background": "light"
     },
     "output_type": "display_data"
    }
   ],
   "source": [
    "plt.figure(figsize=(10,6))\n",
    "ax=sns.countplot(df1['No_Payments'],hue =df1['Fraud'],palette='autumn')\n",
    "for p in ax.patches:\n",
    "    ax.annotate(f'{p.get_height()}', (p.get_x()+0.2, p.get_height()+2), ha='center', va='top', color='black', size=8)\n",
    "plt.show()"
   ]
  },
  {
   "cell_type": "markdown",
   "id": "07190b31",
   "metadata": {},
   "source": [
    "From this data, we can see that if number of payments are greater than 4 then customer is surely a fraud"
   ]
  },
  {
   "cell_type": "code",
   "execution_count": 18,
   "id": "e6b2c87d",
   "metadata": {},
   "outputs": [
    {
     "data": {
      "image/png": "[encoded data removed]",
      "text/plain": [
       "<Figure size 720x432 with 1 Axes>"
      ]
     },
     "metadata": {
      "needs_background": "light"
     },
     "output_type": "display_data"
    }
   ],
   "source": [
    "plt.figure(figsize=(10,6))\n",
    "ax=sns.countplot(df1['No_Orders'],hue =df1['Fraud'],palette='autumn')\n",
    "for p in ax.patches:\n",
    "    ax.annotate(f'{p.get_height()}', (p.get_x()+0.2, p.get_height()+1), ha='center', va='top', color='black', size=8)\n",
    "plt.show()"
   ]
  },
  {
   "cell_type": "markdown",
   "id": "857d1346",
   "metadata": {},
   "source": [
    "From this data if number of orders are greater than 5 then the customer is surely a fraud"
   ]
  },
  {
   "cell_type": "code",
   "execution_count": 19,
   "id": "f264fad2",
   "metadata": {},
   "outputs": [
    {
     "data": {
      "image/png": "[encoded data removed]",
      "text/plain": [
       "<Figure size 720x432 with 1 Axes>"
      ]
     },
     "metadata": {
      "needs_background": "light"
     },
     "output_type": "display_data"
    }
   ],
   "source": [
    "plt.figure(figsize=(10,6))\n",
    "ax=sns.countplot(df1['No_Transactions'],hue =df1['Fraud'],palette='autumn')\n",
    "for p in ax.patches:\n",
    "    ax.annotate(f'{p.get_height()}', (p.get_x()+0.2, p.get_height()+1), ha='center', va='top', color='black', size=8)\n",
    "plt.show()"
   ]
  },
  {
   "cell_type": "markdown",
   "id": "ff624591",
   "metadata": {},
   "source": [
    "Customer with number of transactions above 8 seems to be doing fraud. Maybe the company should limit the transaction up to 8 transactions maximum."
   ]
  },
  {
   "cell_type": "markdown",
   "id": "c4e621aa",
   "metadata": {},
   "source": [
    "<b>Lets compare our continous variables with our target categorical variable Fraud in df2</b>"
   ]
  },
  {
   "cell_type": "code",
   "execution_count": 20,
   "id": "ba870753",
   "metadata": {},
   "outputs": [
    {
     "data": {
      "image/png": "[encoded data removed]",
      "text/plain": [
       "<Figure size 720x432 with 1 Axes>"
      ]
     },
     "metadata": {
      "needs_background": "light"
     },
     "output_type": "display_data"
    }
   ],
   "source": [
    "plt.figure(figsize=(10,6))\n",
    "ax=sns.countplot(df2['paymentMethodType'], hue=df2['paymentMethodRegistrationFailure'],palette='gnuplot2_r')\n",
    "for p in ax.patches:\n",
    "    ax.annotate(f'{p.get_height()}', (p.get_x()+0.2, p.get_height()+12), ha='center', va='top', color='black', size=10)\n",
    "plt.show()"
   ]
  },
  {
   "cell_type": "markdown",
   "id": "1631cfde",
   "metadata": {},
   "source": [
    "Even the most registration failure coming from card transaction, the bit coin registration failure contribute the biggest failure in term of percentage. It is 68% registration failure on bitcoin transaction compare to only 14% regristration failure on card transanction. "
   ]
  },
  {
   "cell_type": "code",
   "execution_count": 21,
   "id": "edb8b10d",
   "metadata": {},
   "outputs": [
    {
     "data": {
      "image/png": "[encoded data removed]",
      "text/plain": [
       "<Figure size 1440x432 with 1 Axes>"
      ]
     },
     "metadata": {
      "needs_background": "light"
     },
     "output_type": "display_data"
    }
   ],
   "source": [
    "plt.figure(figsize=(20,6))\n",
    "ax=sns.countplot(df2['paymentMethodProvider'], hue=df2['paymentMethodRegistrationFailure'],palette='gnuplot2_r')\n",
    "for p in ax.patches:\n",
    "    ax.annotate(f'{p.get_height()}', (p.get_x()+0.2, p.get_height()+5), ha='center', va='top', color='black', size=10)\n",
    "plt.show()"
   ]
  },
  {
   "cell_type": "markdown",
   "id": "47e7a443",
   "metadata": {},
   "source": [
    "Visa 13 payment provider had most registration failures. Since the total registration failure from the card (most of these payment provider is a card) is not too significant, we can ignore this part. "
   ]
  },
  {
   "cell_type": "code",
   "execution_count": 22,
   "id": "661d79a1",
   "metadata": {},
   "outputs": [
    {
     "data": {
      "image/png": "[encoded data removed]",
      "text/plain": [
       "<Figure size 720x432 with 1 Axes>"
      ]
     },
     "metadata": {
      "needs_background": "light"
     },
     "output_type": "display_data"
    }
   ],
   "source": [
    "plt.figure(figsize=(10,6))\n",
    "ax=sns.countplot(df2['paymentMethodType'], hue=df2['transactionFailed'],palette='gnuplot2_r')\n",
    "for p in ax.patches:\n",
    "    ax.annotate(f'{p.get_height()}', (p.get_x()+0.2, p.get_height()+12), ha='center', va='top', color='black', size=10)\n",
    "plt.show()"
   ]
  },
  {
   "cell_type": "markdown",
   "id": "4d5462e6",
   "metadata": {},
   "source": [
    "Most transactions failed coming from card payments (around 39%) compre to the others (bitcoin 30%, apple pay 36%, and paypal 26%)."
   ]
  },
  {
   "cell_type": "code",
   "execution_count": 23,
   "id": "9c839eba",
   "metadata": {
    "scrolled": false
   },
   "outputs": [
    {
     "data": {
      "image/png": "[encoded data removed]",
      "text/plain": [
       "<Figure size 720x432 with 1 Axes>"
      ]
     },
     "metadata": {
      "needs_background": "light"
     },
     "output_type": "display_data"
    }
   ],
   "source": [
    "plt.figure(figsize=(10,6))\n",
    "ax=sns.countplot(df2['paymentMethodType'], hue=df2['orderState'],palette='gnuplot2_r')\n",
    "for p in ax.patches:\n",
    "    ax.annotate(f'{p.get_height()}', (p.get_x()+0.1, p.get_height()+12), ha='center', va='top', color='black', size=10)\n",
    "plt.show()"
   ]
  },
  {
   "cell_type": "markdown",
   "id": "e0b113e2",
   "metadata": {},
   "source": [
    "Large number of orders failed when using card"
   ]
  },
  {
   "cell_type": "markdown",
   "id": "a40a4ef2",
   "metadata": {},
   "source": [
    "<b>Let's focus on combining the values of two datsets</b>\n",
    "<ul>\n",
    "    <li>As we know the first table consists of customer details and second table consists of transactions details of these customers.</li>\n",
    "    <li>We have to merge these tables on the basis of common emails that are found in both the tables</li>\n",
    "    <li>We will use inner join that combines two dataframes and returns ony those rows with matching values in both dataframes</li></ul>"
   ]
  },
  {
   "cell_type": "code",
   "execution_count": 24,
   "id": "6fcb1048",
   "metadata": {},
   "outputs": [],
   "source": [
    "df = pd.merge(df2,df1, on=\"customerEmail\",how=\"inner\")"
   ]
  },
  {
   "cell_type": "code",
   "execution_count": 25,
   "id": "1872d395",
   "metadata": {},
   "outputs": [
    {
     "data": {
      "text/html": [
       "<div>\n",
       "<style scoped>\n",
       "    .dataframe tbody tr th:only-of-type {\n",
       "        vertical-align: middle;\n",
       "    }\n",
       "\n",
       "    .dataframe tbody tr th {\n",
       "        vertical-align: top;\n",
       "    }\n",
       "\n",
       "    .dataframe thead th {\n",
       "        text-align: right;\n",
       "    }\n",
       "</style>\n",
       "<table border=\"1\" class=\"dataframe\">\n",
       "  <thead>\n",
       "    <tr style=\"text-align: right;\">\n",
       "      <th></th>\n",
       "      <th>Unnamed: 0_x</th>\n",
       "      <th>customerEmail</th>\n",
       "      <th>transactionId</th>\n",
       "      <th>orderId</th>\n",
       "      <th>paymentMethodId</th>\n",
       "      <th>paymentMethodRegistrationFailure</th>\n",
       "      <th>paymentMethodType</th>\n",
       "      <th>paymentMethodProvider</th>\n",
       "      <th>transactionAmount</th>\n",
       "      <th>transactionFailed</th>\n",
       "      <th>orderState</th>\n",
       "      <th>Unnamed: 0_y</th>\n",
       "      <th>customerPhone</th>\n",
       "      <th>customerDevice</th>\n",
       "      <th>customerIPAddress</th>\n",
       "      <th>customerBillingAddress</th>\n",
       "      <th>No_Transactions</th>\n",
       "      <th>No_Orders</th>\n",
       "      <th>No_Payments</th>\n",
       "      <th>Fraud</th>\n",
       "    </tr>\n",
       "  </thead>\n",
       "  <tbody>\n",
       "    <tr>\n",
       "      <th>0</th>\n",
       "      <td>0</td>\n",
       "      <td>josephhoward@yahoo.com</td>\n",
       "      <td>a9lcj51r</td>\n",
       "      <td>vjbdvd</td>\n",
       "      <td>wt07xm68b</td>\n",
       "      <td>1</td>\n",
       "      <td>card</td>\n",
       "      <td>JCB 16 digit</td>\n",
       "      <td>18</td>\n",
       "      <td>0</td>\n",
       "      <td>pending</td>\n",
       "      <td>0</td>\n",
       "      <td>400-108-5415</td>\n",
       "      <td>yyeiaxpltf82440jnb3v</td>\n",
       "      <td>8.129.104.40</td>\n",
       "      <td>5493 Jones Islands\\nBrownside, CA 51896</td>\n",
       "      <td>2</td>\n",
       "      <td>2</td>\n",
       "      <td>1</td>\n",
       "      <td>0</td>\n",
       "    </tr>\n",
       "    <tr>\n",
       "      <th>1</th>\n",
       "      <td>1</td>\n",
       "      <td>josephhoward@yahoo.com</td>\n",
       "      <td>y4wcv03i</td>\n",
       "      <td>yp6x27</td>\n",
       "      <td>wt07xm68b</td>\n",
       "      <td>1</td>\n",
       "      <td>card</td>\n",
       "      <td>JCB 16 digit</td>\n",
       "      <td>26</td>\n",
       "      <td>0</td>\n",
       "      <td>fulfilled</td>\n",
       "      <td>0</td>\n",
       "      <td>400-108-5415</td>\n",
       "      <td>yyeiaxpltf82440jnb3v</td>\n",
       "      <td>8.129.104.40</td>\n",
       "      <td>5493 Jones Islands\\nBrownside, CA 51896</td>\n",
       "      <td>2</td>\n",
       "      <td>2</td>\n",
       "      <td>1</td>\n",
       "      <td>0</td>\n",
       "    </tr>\n",
       "    <tr>\n",
       "      <th>2</th>\n",
       "      <td>2</td>\n",
       "      <td>evansjeffery@yahoo.com</td>\n",
       "      <td>5mi94sfw</td>\n",
       "      <td>nlghpa</td>\n",
       "      <td>41ug157xz</td>\n",
       "      <td>0</td>\n",
       "      <td>bitcoin</td>\n",
       "      <td>American Express</td>\n",
       "      <td>45</td>\n",
       "      <td>0</td>\n",
       "      <td>fulfilled</td>\n",
       "      <td>1</td>\n",
       "      <td>1-788-091-7546</td>\n",
       "      <td>r0jpm7xaeqqa3kr6mzum</td>\n",
       "      <td>219.173.211.202</td>\n",
       "      <td>356 Elizabeth Inlet Suite 120\\nPort Joshuabury...</td>\n",
       "      <td>3</td>\n",
       "      <td>3</td>\n",
       "      <td>7</td>\n",
       "      <td>1</td>\n",
       "    </tr>\n",
       "    <tr>\n",
       "      <th>3</th>\n",
       "      <td>3</td>\n",
       "      <td>evansjeffery@yahoo.com</td>\n",
       "      <td>br8ba1nu</td>\n",
       "      <td>uw0eeb</td>\n",
       "      <td>41ug157xz</td>\n",
       "      <td>0</td>\n",
       "      <td>bitcoin</td>\n",
       "      <td>American Express</td>\n",
       "      <td>23</td>\n",
       "      <td>0</td>\n",
       "      <td>fulfilled</td>\n",
       "      <td>1</td>\n",
       "      <td>1-788-091-7546</td>\n",
       "      <td>r0jpm7xaeqqa3kr6mzum</td>\n",
       "      <td>219.173.211.202</td>\n",
       "      <td>356 Elizabeth Inlet Suite 120\\nPort Joshuabury...</td>\n",
       "      <td>3</td>\n",
       "      <td>3</td>\n",
       "      <td>7</td>\n",
       "      <td>1</td>\n",
       "    </tr>\n",
       "    <tr>\n",
       "      <th>4</th>\n",
       "      <td>4</td>\n",
       "      <td>evansjeffery@yahoo.com</td>\n",
       "      <td>a33145ss</td>\n",
       "      <td>bn44oh</td>\n",
       "      <td>y3xp697jx</td>\n",
       "      <td>1</td>\n",
       "      <td>bitcoin</td>\n",
       "      <td>VISA 16 digit</td>\n",
       "      <td>43</td>\n",
       "      <td>1</td>\n",
       "      <td>fulfilled</td>\n",
       "      <td>1</td>\n",
       "      <td>1-788-091-7546</td>\n",
       "      <td>r0jpm7xaeqqa3kr6mzum</td>\n",
       "      <td>219.173.211.202</td>\n",
       "      <td>356 Elizabeth Inlet Suite 120\\nPort Joshuabury...</td>\n",
       "      <td>3</td>\n",
       "      <td>3</td>\n",
       "      <td>7</td>\n",
       "      <td>1</td>\n",
       "    </tr>\n",
       "  </tbody>\n",
       "</table>\n",
       "</div>"
      ],
      "text/plain": [
       "   Unnamed: 0_x           customerEmail transactionId orderId paymentMethodId  \\\n",
       "0             0  josephhoward@yahoo.com      a9lcj51r  vjbdvd       wt07xm68b   \n",
       "1             1  josephhoward@yahoo.com      y4wcv03i  yp6x27       wt07xm68b   \n",
       "2             2  evansjeffery@yahoo.com      5mi94sfw  nlghpa       41ug157xz   \n",
       "3             3  evansjeffery@yahoo.com      br8ba1nu  uw0eeb       41ug157xz   \n",
       "4             4  evansjeffery@yahoo.com      a33145ss  bn44oh       y3xp697jx   \n",
       "\n",
       "   paymentMethodRegistrationFailure paymentMethodType paymentMethodProvider  \\\n",
       "0                                 1              card          JCB 16 digit   \n",
       "1                                 1              card          JCB 16 digit   \n",
       "2                                 0           bitcoin      American Express   \n",
       "3                                 0           bitcoin      American Express   \n",
       "4                                 1           bitcoin         VISA 16 digit   \n",
       "\n",
       "   transactionAmount  transactionFailed orderState  Unnamed: 0_y  \\\n",
       "0                 18                  0    pending             0   \n",
       "1                 26                  0  fulfilled             0   \n",
       "2                 45                  0  fulfilled             1   \n",
       "3                 23                  0  fulfilled             1   \n",
       "4                 43                  1  fulfilled             1   \n",
       "\n",
       "    customerPhone        customerDevice customerIPAddress  \\\n",
       "0    400-108-5415  yyeiaxpltf82440jnb3v      8.129.104.40   \n",
       "1    400-108-5415  yyeiaxpltf82440jnb3v      8.129.104.40   \n",
       "2  1-788-091-7546  r0jpm7xaeqqa3kr6mzum   219.173.211.202   \n",
       "3  1-788-091-7546  r0jpm7xaeqqa3kr6mzum   219.173.211.202   \n",
       "4  1-788-091-7546  r0jpm7xaeqqa3kr6mzum   219.173.211.202   \n",
       "\n",
       "                              customerBillingAddress  No_Transactions  \\\n",
       "0            5493 Jones Islands\\nBrownside, CA 51896                2   \n",
       "1            5493 Jones Islands\\nBrownside, CA 51896                2   \n",
       "2  356 Elizabeth Inlet Suite 120\\nPort Joshuabury...                3   \n",
       "3  356 Elizabeth Inlet Suite 120\\nPort Joshuabury...                3   \n",
       "4  356 Elizabeth Inlet Suite 120\\nPort Joshuabury...                3   \n",
       "\n",
       "   No_Orders  No_Payments  Fraud  \n",
       "0          2            1      0  \n",
       "1          2            1      0  \n",
       "2          3            7      1  \n",
       "3          3            7      1  \n",
       "4          3            7      1  "
      ]
     },
     "execution_count": 25,
     "metadata": {},
     "output_type": "execute_result"
    }
   ],
   "source": [
    "df.head()"
   ]
  },
  {
   "cell_type": "code",
   "execution_count": 26,
   "id": "75d1e229",
   "metadata": {},
   "outputs": [],
   "source": [
    "df.drop(['Unnamed: 0_x','Unnamed: 0_y'],axis = 1, inplace = True)"
   ]
  },
  {
   "cell_type": "code",
   "execution_count": 27,
   "id": "929d5e3d",
   "metadata": {},
   "outputs": [
    {
     "data": {
      "text/plain": [
       "(819, 18)"
      ]
     },
     "execution_count": 27,
     "metadata": {},
     "output_type": "execute_result"
    }
   ],
   "source": [
    "df.shape"
   ]
  },
  {
   "cell_type": "markdown",
   "id": "c23086b6",
   "metadata": {},
   "source": [
    "<b> Checking missing value </b>"
   ]
  },
  {
   "cell_type": "code",
   "execution_count": 28,
   "id": "1ff46907",
   "metadata": {},
   "outputs": [
    {
     "data": {
      "text/plain": [
       "customerEmail                       0\n",
       "transactionId                       0\n",
       "orderId                             0\n",
       "paymentMethodId                     0\n",
       "paymentMethodRegistrationFailure    0\n",
       "paymentMethodType                   0\n",
       "paymentMethodProvider               0\n",
       "transactionAmount                   0\n",
       "transactionFailed                   0\n",
       "orderState                          0\n",
       "customerPhone                       0\n",
       "customerDevice                      0\n",
       "customerIPAddress                   0\n",
       "customerBillingAddress              0\n",
       "No_Transactions                     0\n",
       "No_Orders                           0\n",
       "No_Payments                         0\n",
       "Fraud                               0\n",
       "dtype: int64"
      ]
     },
     "execution_count": 28,
     "metadata": {},
     "output_type": "execute_result"
    }
   ],
   "source": [
    "df.isnull().sum()"
   ]
  },
  {
   "cell_type": "code",
   "execution_count": 29,
   "id": "37b6442c",
   "metadata": {},
   "outputs": [
    {
     "data": {
      "text/plain": [
       "customerEmail                       0.0\n",
       "transactionId                       0.0\n",
       "orderId                             0.0\n",
       "paymentMethodId                     0.0\n",
       "paymentMethodRegistrationFailure    0.0\n",
       "paymentMethodType                   0.0\n",
       "paymentMethodProvider               0.0\n",
       "transactionAmount                   0.0\n",
       "transactionFailed                   0.0\n",
       "orderState                          0.0\n",
       "customerPhone                       0.0\n",
       "customerDevice                      0.0\n",
       "customerIPAddress                   0.0\n",
       "customerBillingAddress              0.0\n",
       "No_Transactions                     0.0\n",
       "No_Orders                           0.0\n",
       "No_Payments                         0.0\n",
       "Fraud                               0.0\n",
       "dtype: float64"
      ]
     },
     "execution_count": 29,
     "metadata": {},
     "output_type": "execute_result"
    }
   ],
   "source": [
    "df[df.duplicated()].sum()"
   ]
  },
  {
   "cell_type": "code",
   "execution_count": 30,
   "id": "819d1685",
   "metadata": {},
   "outputs": [
    {
     "name": "stdout",
     "output_type": "stream",
     "text": [
      "<class 'pandas.core.frame.DataFrame'>\n",
      "Int64Index: 819 entries, 0 to 818\n",
      "Data columns (total 18 columns):\n",
      " #   Column                            Non-Null Count  Dtype \n",
      "---  ------                            --------------  ----- \n",
      " 0   customerEmail                     819 non-null    object\n",
      " 1   transactionId                     819 non-null    object\n",
      " 2   orderId                           819 non-null    object\n",
      " 3   paymentMethodId                   819 non-null    object\n",
      " 4   paymentMethodRegistrationFailure  819 non-null    int64 \n",
      " 5   paymentMethodType                 819 non-null    object\n",
      " 6   paymentMethodProvider             819 non-null    object\n",
      " 7   transactionAmount                 819 non-null    int64 \n",
      " 8   transactionFailed                 819 non-null    int64 \n",
      " 9   orderState                        819 non-null    object\n",
      " 10  customerPhone                     819 non-null    object\n",
      " 11  customerDevice                    819 non-null    object\n",
      " 12  customerIPAddress                 819 non-null    object\n",
      " 13  customerBillingAddress            819 non-null    object\n",
      " 14  No_Transactions                   819 non-null    int64 \n",
      " 15  No_Orders                         819 non-null    int64 \n",
      " 16  No_Payments                       819 non-null    int64 \n",
      " 17  Fraud                             819 non-null    int32 \n",
      "dtypes: int32(1), int64(6), object(11)\n",
      "memory usage: 118.4+ KB\n"
     ]
    }
   ],
   "source": [
    "df.info()"
   ]
  },
  {
   "cell_type": "code",
   "execution_count": 31,
   "id": "8a1dc22d",
   "metadata": {},
   "outputs": [
    {
     "data": {
      "image/png": "[encoded data removed]",
      "text/plain": [
       "<Figure size 432x288 with 1 Axes>"
      ]
     },
     "metadata": {
      "needs_background": "light"
     },
     "output_type": "display_data"
    }
   ],
   "source": [
    "ax=sns.countplot(df['Fraud'],data = df, palette='Spectral')\n",
    "for p in ax.patches:\n",
    "    ax.annotate(f'{p.get_height()}', (p.get_x()+0.4, p.get_height()), ha='center', va='top', color='black', size=18)\n",
    "plt.show()"
   ]
  },
  {
   "cell_type": "markdown",
   "id": "dc25f71c",
   "metadata": {},
   "source": [
    "After we combine between two datas, the fraud percentage is increasing. it shows us that the second data (transaction data) has affect more fraud results. For more analysis lest do the multivariat analysis"
   ]
  },
  {
   "cell_type": "markdown",
   "id": "12985383",
   "metadata": {},
   "source": [
    "### MULTIVARIAT ANALYSIS"
   ]
  },
  {
   "cell_type": "code",
   "execution_count": 32,
   "id": "f32ec035",
   "metadata": {},
   "outputs": [
    {
     "data": {
      "text/html": [
       "<div>\n",
       "<style scoped>\n",
       "    .dataframe tbody tr th:only-of-type {\n",
       "        vertical-align: middle;\n",
       "    }\n",
       "\n",
       "    .dataframe tbody tr th {\n",
       "        vertical-align: top;\n",
       "    }\n",
       "\n",
       "    .dataframe thead th {\n",
       "        text-align: right;\n",
       "    }\n",
       "</style>\n",
       "<table border=\"1\" class=\"dataframe\">\n",
       "  <thead>\n",
       "    <tr style=\"text-align: right;\">\n",
       "      <th></th>\n",
       "      <th>customerEmail</th>\n",
       "      <th>transactionId</th>\n",
       "      <th>orderId</th>\n",
       "      <th>paymentMethodId</th>\n",
       "      <th>paymentMethodRegistrationFailure</th>\n",
       "      <th>paymentMethodType</th>\n",
       "      <th>paymentMethodProvider</th>\n",
       "      <th>transactionAmount</th>\n",
       "      <th>transactionFailed</th>\n",
       "      <th>orderState</th>\n",
       "      <th>customerPhone</th>\n",
       "      <th>customerDevice</th>\n",
       "      <th>customerIPAddress</th>\n",
       "      <th>customerBillingAddress</th>\n",
       "      <th>No_Transactions</th>\n",
       "      <th>No_Orders</th>\n",
       "      <th>No_Payments</th>\n",
       "      <th>Fraud</th>\n",
       "    </tr>\n",
       "  </thead>\n",
       "  <tbody>\n",
       "    <tr>\n",
       "      <th>0</th>\n",
       "      <td>josephhoward@yahoo.com</td>\n",
       "      <td>a9lcj51r</td>\n",
       "      <td>vjbdvd</td>\n",
       "      <td>wt07xm68b</td>\n",
       "      <td>1</td>\n",
       "      <td>card</td>\n",
       "      <td>JCB 16 digit</td>\n",
       "      <td>18</td>\n",
       "      <td>0</td>\n",
       "      <td>pending</td>\n",
       "      <td>400-108-5415</td>\n",
       "      <td>yyeiaxpltf82440jnb3v</td>\n",
       "      <td>8.129.104.40</td>\n",
       "      <td>5493 Jones Islands\\nBrownside, CA 51896</td>\n",
       "      <td>2</td>\n",
       "      <td>2</td>\n",
       "      <td>1</td>\n",
       "      <td>0</td>\n",
       "    </tr>\n",
       "    <tr>\n",
       "      <th>1</th>\n",
       "      <td>josephhoward@yahoo.com</td>\n",
       "      <td>y4wcv03i</td>\n",
       "      <td>yp6x27</td>\n",
       "      <td>wt07xm68b</td>\n",
       "      <td>1</td>\n",
       "      <td>card</td>\n",
       "      <td>JCB 16 digit</td>\n",
       "      <td>26</td>\n",
       "      <td>0</td>\n",
       "      <td>fulfilled</td>\n",
       "      <td>400-108-5415</td>\n",
       "      <td>yyeiaxpltf82440jnb3v</td>\n",
       "      <td>8.129.104.40</td>\n",
       "      <td>5493 Jones Islands\\nBrownside, CA 51896</td>\n",
       "      <td>2</td>\n",
       "      <td>2</td>\n",
       "      <td>1</td>\n",
       "      <td>0</td>\n",
       "    </tr>\n",
       "    <tr>\n",
       "      <th>2</th>\n",
       "      <td>evansjeffery@yahoo.com</td>\n",
       "      <td>5mi94sfw</td>\n",
       "      <td>nlghpa</td>\n",
       "      <td>41ug157xz</td>\n",
       "      <td>0</td>\n",
       "      <td>bitcoin</td>\n",
       "      <td>American Express</td>\n",
       "      <td>45</td>\n",
       "      <td>0</td>\n",
       "      <td>fulfilled</td>\n",
       "      <td>1-788-091-7546</td>\n",
       "      <td>r0jpm7xaeqqa3kr6mzum</td>\n",
       "      <td>219.173.211.202</td>\n",
       "      <td>356 Elizabeth Inlet Suite 120\\nPort Joshuabury...</td>\n",
       "      <td>3</td>\n",
       "      <td>3</td>\n",
       "      <td>7</td>\n",
       "      <td>1</td>\n",
       "    </tr>\n",
       "    <tr>\n",
       "      <th>3</th>\n",
       "      <td>evansjeffery@yahoo.com</td>\n",
       "      <td>br8ba1nu</td>\n",
       "      <td>uw0eeb</td>\n",
       "      <td>41ug157xz</td>\n",
       "      <td>0</td>\n",
       "      <td>bitcoin</td>\n",
       "      <td>American Express</td>\n",
       "      <td>23</td>\n",
       "      <td>0</td>\n",
       "      <td>fulfilled</td>\n",
       "      <td>1-788-091-7546</td>\n",
       "      <td>r0jpm7xaeqqa3kr6mzum</td>\n",
       "      <td>219.173.211.202</td>\n",
       "      <td>356 Elizabeth Inlet Suite 120\\nPort Joshuabury...</td>\n",
       "      <td>3</td>\n",
       "      <td>3</td>\n",
       "      <td>7</td>\n",
       "      <td>1</td>\n",
       "    </tr>\n",
       "    <tr>\n",
       "      <th>4</th>\n",
       "      <td>evansjeffery@yahoo.com</td>\n",
       "      <td>a33145ss</td>\n",
       "      <td>bn44oh</td>\n",
       "      <td>y3xp697jx</td>\n",
       "      <td>1</td>\n",
       "      <td>bitcoin</td>\n",
       "      <td>VISA 16 digit</td>\n",
       "      <td>43</td>\n",
       "      <td>1</td>\n",
       "      <td>fulfilled</td>\n",
       "      <td>1-788-091-7546</td>\n",
       "      <td>r0jpm7xaeqqa3kr6mzum</td>\n",
       "      <td>219.173.211.202</td>\n",
       "      <td>356 Elizabeth Inlet Suite 120\\nPort Joshuabury...</td>\n",
       "      <td>3</td>\n",
       "      <td>3</td>\n",
       "      <td>7</td>\n",
       "      <td>1</td>\n",
       "    </tr>\n",
       "  </tbody>\n",
       "</table>\n",
       "</div>"
      ],
      "text/plain": [
       "            customerEmail transactionId orderId paymentMethodId  \\\n",
       "0  josephhoward@yahoo.com      a9lcj51r  vjbdvd       wt07xm68b   \n",
       "1  josephhoward@yahoo.com      y4wcv03i  yp6x27       wt07xm68b   \n",
       "2  evansjeffery@yahoo.com      5mi94sfw  nlghpa       41ug157xz   \n",
       "3  evansjeffery@yahoo.com      br8ba1nu  uw0eeb       41ug157xz   \n",
       "4  evansjeffery@yahoo.com      a33145ss  bn44oh       y3xp697jx   \n",
       "\n",
       "   paymentMethodRegistrationFailure paymentMethodType paymentMethodProvider  \\\n",
       "0                                 1              card          JCB 16 digit   \n",
       "1                                 1              card          JCB 16 digit   \n",
       "2                                 0           bitcoin      American Express   \n",
       "3                                 0           bitcoin      American Express   \n",
       "4                                 1           bitcoin         VISA 16 digit   \n",
       "\n",
       "   transactionAmount  transactionFailed orderState   customerPhone  \\\n",
       "0                 18                  0    pending    400-108-5415   \n",
       "1                 26                  0  fulfilled    400-108-5415   \n",
       "2                 45                  0  fulfilled  1-788-091-7546   \n",
       "3                 23                  0  fulfilled  1-788-091-7546   \n",
       "4                 43                  1  fulfilled  1-788-091-7546   \n",
       "\n",
       "         customerDevice customerIPAddress  \\\n",
       "0  yyeiaxpltf82440jnb3v      8.129.104.40   \n",
       "1  yyeiaxpltf82440jnb3v      8.129.104.40   \n",
       "2  r0jpm7xaeqqa3kr6mzum   219.173.211.202   \n",
       "3  r0jpm7xaeqqa3kr6mzum   219.173.211.202   \n",
       "4  r0jpm7xaeqqa3kr6mzum   219.173.211.202   \n",
       "\n",
       "                              customerBillingAddress  No_Transactions  \\\n",
       "0            5493 Jones Islands\\nBrownside, CA 51896                2   \n",
       "1            5493 Jones Islands\\nBrownside, CA 51896                2   \n",
       "2  356 Elizabeth Inlet Suite 120\\nPort Joshuabury...                3   \n",
       "3  356 Elizabeth Inlet Suite 120\\nPort Joshuabury...                3   \n",
       "4  356 Elizabeth Inlet Suite 120\\nPort Joshuabury...                3   \n",
       "\n",
       "   No_Orders  No_Payments  Fraud  \n",
       "0          2            1      0  \n",
       "1          2            1      0  \n",
       "2          3            7      1  \n",
       "3          3            7      1  \n",
       "4          3            7      1  "
      ]
     },
     "execution_count": 32,
     "metadata": {},
     "output_type": "execute_result"
    }
   ],
   "source": [
    "df.head()"
   ]
  },
  {
   "cell_type": "code",
   "execution_count": 33,
   "id": "1d713ffb",
   "metadata": {
    "scrolled": false
   },
   "outputs": [
    {
     "data": {
      "text/html": [
       "<div>\n",
       "<style scoped>\n",
       "    .dataframe tbody tr th:only-of-type {\n",
       "        vertical-align: middle;\n",
       "    }\n",
       "\n",
       "    .dataframe tbody tr th {\n",
       "        vertical-align: top;\n",
       "    }\n",
       "\n",
       "    .dataframe thead th {\n",
       "        text-align: right;\n",
       "    }\n",
       "</style>\n",
       "<table border=\"1\" class=\"dataframe\">\n",
       "  <thead>\n",
       "    <tr style=\"text-align: right;\">\n",
       "      <th></th>\n",
       "      <th>customerEmail</th>\n",
       "      <th>transactionId</th>\n",
       "      <th>orderId</th>\n",
       "      <th>paymentMethodId</th>\n",
       "      <th>paymentMethodRegistrationFailure</th>\n",
       "      <th>paymentMethodType</th>\n",
       "      <th>paymentMethodProvider</th>\n",
       "      <th>transactionAmount</th>\n",
       "      <th>transactionFailed</th>\n",
       "      <th>orderState</th>\n",
       "      <th>customerPhone</th>\n",
       "      <th>customerDevice</th>\n",
       "      <th>customerIPAddress</th>\n",
       "      <th>customerBillingAddress</th>\n",
       "      <th>No_Transactions</th>\n",
       "      <th>No_Orders</th>\n",
       "      <th>No_Payments</th>\n",
       "      <th>Fraud</th>\n",
       "    </tr>\n",
       "  </thead>\n",
       "  <tbody>\n",
       "    <tr>\n",
       "      <th>2</th>\n",
       "      <td>evansjeffery@yahoo.com</td>\n",
       "      <td>5mi94sfw</td>\n",
       "      <td>nlghpa</td>\n",
       "      <td>41ug157xz</td>\n",
       "      <td>0</td>\n",
       "      <td>bitcoin</td>\n",
       "      <td>American Express</td>\n",
       "      <td>45</td>\n",
       "      <td>0</td>\n",
       "      <td>fulfilled</td>\n",
       "      <td>1-788-091-7546</td>\n",
       "      <td>r0jpm7xaeqqa3kr6mzum</td>\n",
       "      <td>219.173.211.202</td>\n",
       "      <td>356 Elizabeth Inlet Suite 120\\nPort Joshuabury...</td>\n",
       "      <td>3</td>\n",
       "      <td>3</td>\n",
       "      <td>7</td>\n",
       "      <td>1</td>\n",
       "    </tr>\n",
       "    <tr>\n",
       "      <th>3</th>\n",
       "      <td>evansjeffery@yahoo.com</td>\n",
       "      <td>br8ba1nu</td>\n",
       "      <td>uw0eeb</td>\n",
       "      <td>41ug157xz</td>\n",
       "      <td>0</td>\n",
       "      <td>bitcoin</td>\n",
       "      <td>American Express</td>\n",
       "      <td>23</td>\n",
       "      <td>0</td>\n",
       "      <td>fulfilled</td>\n",
       "      <td>1-788-091-7546</td>\n",
       "      <td>r0jpm7xaeqqa3kr6mzum</td>\n",
       "      <td>219.173.211.202</td>\n",
       "      <td>356 Elizabeth Inlet Suite 120\\nPort Joshuabury...</td>\n",
       "      <td>3</td>\n",
       "      <td>3</td>\n",
       "      <td>7</td>\n",
       "      <td>1</td>\n",
       "    </tr>\n",
       "    <tr>\n",
       "      <th>4</th>\n",
       "      <td>evansjeffery@yahoo.com</td>\n",
       "      <td>a33145ss</td>\n",
       "      <td>bn44oh</td>\n",
       "      <td>y3xp697jx</td>\n",
       "      <td>1</td>\n",
       "      <td>bitcoin</td>\n",
       "      <td>VISA 16 digit</td>\n",
       "      <td>43</td>\n",
       "      <td>1</td>\n",
       "      <td>fulfilled</td>\n",
       "      <td>1-788-091-7546</td>\n",
       "      <td>r0jpm7xaeqqa3kr6mzum</td>\n",
       "      <td>219.173.211.202</td>\n",
       "      <td>356 Elizabeth Inlet Suite 120\\nPort Joshuabury...</td>\n",
       "      <td>3</td>\n",
       "      <td>3</td>\n",
       "      <td>7</td>\n",
       "      <td>1</td>\n",
       "    </tr>\n",
       "    <tr>\n",
       "      <th>13</th>\n",
       "      <td>uchen@malone.com</td>\n",
       "      <td>q8j3dgni</td>\n",
       "      <td>56h7iw</td>\n",
       "      <td>olr4zf09x</td>\n",
       "      <td>0</td>\n",
       "      <td>card</td>\n",
       "      <td>VISA 13 digit</td>\n",
       "      <td>71</td>\n",
       "      <td>0</td>\n",
       "      <td>fulfilled</td>\n",
       "      <td>1-981-877-0870</td>\n",
       "      <td>j0pd24k5h8dl2fqu0cz4</td>\n",
       "      <td>196.89.235.192</td>\n",
       "      <td>148 Russell Lodge Apt. 445\\nPort Jenniferside,...</td>\n",
       "      <td>7</td>\n",
       "      <td>7</td>\n",
       "      <td>6</td>\n",
       "      <td>1</td>\n",
       "    </tr>\n",
       "    <tr>\n",
       "      <th>14</th>\n",
       "      <td>uchen@malone.com</td>\n",
       "      <td>xjulqy8x</td>\n",
       "      <td>kowj1v</td>\n",
       "      <td>gehl28i8u</td>\n",
       "      <td>0</td>\n",
       "      <td>card</td>\n",
       "      <td>JCB 16 digit</td>\n",
       "      <td>66</td>\n",
       "      <td>1</td>\n",
       "      <td>fulfilled</td>\n",
       "      <td>1-981-877-0870</td>\n",
       "      <td>j0pd24k5h8dl2fqu0cz4</td>\n",
       "      <td>196.89.235.192</td>\n",
       "      <td>148 Russell Lodge Apt. 445\\nPort Jenniferside,...</td>\n",
       "      <td>7</td>\n",
       "      <td>7</td>\n",
       "      <td>6</td>\n",
       "      <td>1</td>\n",
       "    </tr>\n",
       "  </tbody>\n",
       "</table>\n",
       "</div>"
      ],
      "text/plain": [
       "             customerEmail transactionId orderId paymentMethodId  \\\n",
       "2   evansjeffery@yahoo.com      5mi94sfw  nlghpa       41ug157xz   \n",
       "3   evansjeffery@yahoo.com      br8ba1nu  uw0eeb       41ug157xz   \n",
       "4   evansjeffery@yahoo.com      a33145ss  bn44oh       y3xp697jx   \n",
       "13        uchen@malone.com      q8j3dgni  56h7iw       olr4zf09x   \n",
       "14        uchen@malone.com      xjulqy8x  kowj1v       gehl28i8u   \n",
       "\n",
       "    paymentMethodRegistrationFailure paymentMethodType paymentMethodProvider  \\\n",
       "2                                  0           bitcoin      American Express   \n",
       "3                                  0           bitcoin      American Express   \n",
       "4                                  1           bitcoin         VISA 16 digit   \n",
       "13                                 0              card         VISA 13 digit   \n",
       "14                                 0              card          JCB 16 digit   \n",
       "\n",
       "    transactionAmount  transactionFailed orderState   customerPhone  \\\n",
       "2                  45                  0  fulfilled  1-788-091-7546   \n",
       "3                  23                  0  fulfilled  1-788-091-7546   \n",
       "4                  43                  1  fulfilled  1-788-091-7546   \n",
       "13                 71                  0  fulfilled  1-981-877-0870   \n",
       "14                 66                  1  fulfilled  1-981-877-0870   \n",
       "\n",
       "          customerDevice customerIPAddress  \\\n",
       "2   r0jpm7xaeqqa3kr6mzum   219.173.211.202   \n",
       "3   r0jpm7xaeqqa3kr6mzum   219.173.211.202   \n",
       "4   r0jpm7xaeqqa3kr6mzum   219.173.211.202   \n",
       "13  j0pd24k5h8dl2fqu0cz4    196.89.235.192   \n",
       "14  j0pd24k5h8dl2fqu0cz4    196.89.235.192   \n",
       "\n",
       "                               customerBillingAddress  No_Transactions  \\\n",
       "2   356 Elizabeth Inlet Suite 120\\nPort Joshuabury...                3   \n",
       "3   356 Elizabeth Inlet Suite 120\\nPort Joshuabury...                3   \n",
       "4   356 Elizabeth Inlet Suite 120\\nPort Joshuabury...                3   \n",
       "13  148 Russell Lodge Apt. 445\\nPort Jenniferside,...                7   \n",
       "14  148 Russell Lodge Apt. 445\\nPort Jenniferside,...                7   \n",
       "\n",
       "    No_Orders  No_Payments  Fraud  \n",
       "2           3            7      1  \n",
       "3           3            7      1  \n",
       "4           3            7      1  \n",
       "13          7            6      1  \n",
       "14          7            6      1  "
      ]
     },
     "execution_count": 33,
     "metadata": {},
     "output_type": "execute_result"
    }
   ],
   "source": [
    "df.loc[df['Fraud']==1].head()"
   ]
  },
  {
   "cell_type": "code",
   "execution_count": 34,
   "id": "7c343c99",
   "metadata": {
    "scrolled": false
   },
   "outputs": [
    {
     "data": {
      "text/plain": [
       "<seaborn.axisgrid.PairGrid at 0xd5ac66a00>"
      ]
     },
     "execution_count": 34,
     "metadata": {},
     "output_type": "execute_result"
    },
    {
     "data": {
      "image/png": "[encoded data removed]",
      "text/plain": [
       "<Figure size 1122.38x1080 with 42 Axes>"
      ]
     },
     "metadata": {
      "needs_background": "light"
     },
     "output_type": "display_data"
    }
   ],
   "source": [
    "sns.pairplot(df, hue=\"Fraud\")"
   ]
  },
  {
   "cell_type": "code",
   "execution_count": 36,
   "id": "de243e84",
   "metadata": {},
   "outputs": [
    {
     "data": {
      "image/png": "[encoded data removed]",
      "text/plain": [
       "<Figure size 720x720 with 2 Axes>"
      ]
     },
     "metadata": {
      "needs_background": "light"
     },
     "output_type": "display_data"
    }
   ],
   "source": [
    "corrmat = df.corr()\n",
    "top_corr_features = corrmat.index\n",
    "plt.figure(figsize=(10,10))\n",
    "#heatmap\n",
    "g = sns.heatmap(df[top_corr_features].corr(),annot=True,cmap=\"RdYlGn\")"
   ]
  },
  {
   "cell_type": "markdown",
   "id": "e1234fc1",
   "metadata": {},
   "source": [
    "From above pairplot and heatmap we can see that transaction amount is the features that affect the increase in fraud transaction percentage. The bigger transaction amount the higher fraud transaction happend. For the detail we can see on below chart that for transaction above 50 the transaction all fraudulent."
   ]
  },
  {
   "cell_type": "code",
   "execution_count": 37,
   "id": "fbde12dd",
   "metadata": {
    "scrolled": true
   },
   "outputs": [
    {
     "data": {
      "image/png": "[encoded data removed]",
      "text/plain": [
       "<Figure size 1440x432 with 1 Axes>"
      ]
     },
     "metadata": {
      "needs_background": "light"
     },
     "output_type": "display_data"
    }
   ],
   "source": [
    "plt.figure(figsize=(20,6))\n",
    "ax=sns.countplot(df['transactionAmount'], hue=df['Fraud'],palette='gnuplot2_r')\n",
    "for p in ax.patches:\n",
    "    ax.annotate(f'{p.get_height()}', (p.get_x()+0.2, p.get_height()+2), ha='center', va='top', color='black', size=10)\n",
    "plt.show()"
   ]
  },
  {
   "cell_type": "code",
   "execution_count": 38,
   "id": "35ceb719",
   "metadata": {
    "scrolled": false
   },
   "outputs": [
    {
     "data": {
      "image/png": "[encoded data removed]",
      "text/plain": [
       "<Figure size 720x432 with 1 Axes>"
      ]
     },
     "metadata": {
      "needs_background": "light"
     },
     "output_type": "display_data"
    }
   ],
   "source": [
    "plt.figure(figsize=(10,6))\n",
    "ax=sns.countplot(df['paymentMethodType'], hue=df['Fraud'],palette='gnuplot2_r')\n",
    "for p in ax.patches:\n",
    "    ax.annotate(f'{p.get_height()}', (p.get_x()+0.2, p.get_height()+12), ha='center', va='top', color='black', size=10)\n",
    "plt.show()"
   ]
  },
  {
   "cell_type": "markdown",
   "id": "bfb59282",
   "metadata": {},
   "source": [
    "From this comparison also we can see that bitcoin and card card payment has significant fraudulent transaction that two others."
   ]
  },
  {
   "cell_type": "markdown",
   "id": "6f09fcca",
   "metadata": {},
   "source": [
    "# Modelling"
   ]
  },
  {
   "cell_type": "code",
   "execution_count": 39,
   "id": "8eeaf6ad",
   "metadata": {},
   "outputs": [],
   "source": [
    "#first we drop the unnecessary categorical features \n",
    "df3 = df.drop(['customerEmail','transactionId','orderId','paymentMethodId','customerPhone',\n",
    "               'customerPhone','customerDevice','customerIPAddress','customerBillingAddress'], axis='columns')"
   ]
  },
  {
   "cell_type": "code",
   "execution_count": 40,
   "id": "81acf2f3",
   "metadata": {},
   "outputs": [],
   "source": [
    "df3 = pd.get_dummies(df3,drop_first=True)"
   ]
  },
  {
   "cell_type": "code",
   "execution_count": 41,
   "id": "ebf1dd41",
   "metadata": {},
   "outputs": [
    {
     "data": {
      "text/html": [
       "<div>\n",
       "<style scoped>\n",
       "    .dataframe tbody tr th:only-of-type {\n",
       "        vertical-align: middle;\n",
       "    }\n",
       "\n",
       "    .dataframe tbody tr th {\n",
       "        vertical-align: top;\n",
       "    }\n",
       "\n",
       "    .dataframe thead th {\n",
       "        text-align: right;\n",
       "    }\n",
       "</style>\n",
       "<table border=\"1\" class=\"dataframe\">\n",
       "  <thead>\n",
       "    <tr style=\"text-align: right;\">\n",
       "      <th></th>\n",
       "      <th>paymentMethodRegistrationFailure</th>\n",
       "      <th>transactionAmount</th>\n",
       "      <th>transactionFailed</th>\n",
       "      <th>No_Transactions</th>\n",
       "      <th>No_Orders</th>\n",
       "      <th>No_Payments</th>\n",
       "      <th>Fraud</th>\n",
       "      <th>paymentMethodType_bitcoin</th>\n",
       "      <th>paymentMethodType_card</th>\n",
       "      <th>paymentMethodType_paypal</th>\n",
       "      <th>...</th>\n",
       "      <th>paymentMethodProvider_Discover</th>\n",
       "      <th>paymentMethodProvider_JCB 15 digit</th>\n",
       "      <th>paymentMethodProvider_JCB 16 digit</th>\n",
       "      <th>paymentMethodProvider_Maestro</th>\n",
       "      <th>paymentMethodProvider_Mastercard</th>\n",
       "      <th>paymentMethodProvider_VISA 13 digit</th>\n",
       "      <th>paymentMethodProvider_VISA 16 digit</th>\n",
       "      <th>paymentMethodProvider_Voyager</th>\n",
       "      <th>orderState_fulfilled</th>\n",
       "      <th>orderState_pending</th>\n",
       "    </tr>\n",
       "  </thead>\n",
       "  <tbody>\n",
       "    <tr>\n",
       "      <th>0</th>\n",
       "      <td>1</td>\n",
       "      <td>18</td>\n",
       "      <td>0</td>\n",
       "      <td>2</td>\n",
       "      <td>2</td>\n",
       "      <td>1</td>\n",
       "      <td>0</td>\n",
       "      <td>0</td>\n",
       "      <td>1</td>\n",
       "      <td>0</td>\n",
       "      <td>...</td>\n",
       "      <td>0</td>\n",
       "      <td>0</td>\n",
       "      <td>1</td>\n",
       "      <td>0</td>\n",
       "      <td>0</td>\n",
       "      <td>0</td>\n",
       "      <td>0</td>\n",
       "      <td>0</td>\n",
       "      <td>0</td>\n",
       "      <td>1</td>\n",
       "    </tr>\n",
       "    <tr>\n",
       "      <th>1</th>\n",
       "      <td>1</td>\n",
       "      <td>26</td>\n",
       "      <td>0</td>\n",
       "      <td>2</td>\n",
       "      <td>2</td>\n",
       "      <td>1</td>\n",
       "      <td>0</td>\n",
       "      <td>0</td>\n",
       "      <td>1</td>\n",
       "      <td>0</td>\n",
       "      <td>...</td>\n",
       "      <td>0</td>\n",
       "      <td>0</td>\n",
       "      <td>1</td>\n",
       "      <td>0</td>\n",
       "      <td>0</td>\n",
       "      <td>0</td>\n",
       "      <td>0</td>\n",
       "      <td>0</td>\n",
       "      <td>1</td>\n",
       "      <td>0</td>\n",
       "    </tr>\n",
       "    <tr>\n",
       "      <th>2</th>\n",
       "      <td>0</td>\n",
       "      <td>45</td>\n",
       "      <td>0</td>\n",
       "      <td>3</td>\n",
       "      <td>3</td>\n",
       "      <td>7</td>\n",
       "      <td>1</td>\n",
       "      <td>1</td>\n",
       "      <td>0</td>\n",
       "      <td>0</td>\n",
       "      <td>...</td>\n",
       "      <td>0</td>\n",
       "      <td>0</td>\n",
       "      <td>0</td>\n",
       "      <td>0</td>\n",
       "      <td>0</td>\n",
       "      <td>0</td>\n",
       "      <td>0</td>\n",
       "      <td>0</td>\n",
       "      <td>1</td>\n",
       "      <td>0</td>\n",
       "    </tr>\n",
       "    <tr>\n",
       "      <th>3</th>\n",
       "      <td>0</td>\n",
       "      <td>23</td>\n",
       "      <td>0</td>\n",
       "      <td>3</td>\n",
       "      <td>3</td>\n",
       "      <td>7</td>\n",
       "      <td>1</td>\n",
       "      <td>1</td>\n",
       "      <td>0</td>\n",
       "      <td>0</td>\n",
       "      <td>...</td>\n",
       "      <td>0</td>\n",
       "      <td>0</td>\n",
       "      <td>0</td>\n",
       "      <td>0</td>\n",
       "      <td>0</td>\n",
       "      <td>0</td>\n",
       "      <td>0</td>\n",
       "      <td>0</td>\n",
       "      <td>1</td>\n",
       "      <td>0</td>\n",
       "    </tr>\n",
       "    <tr>\n",
       "      <th>4</th>\n",
       "      <td>1</td>\n",
       "      <td>43</td>\n",
       "      <td>1</td>\n",
       "      <td>3</td>\n",
       "      <td>3</td>\n",
       "      <td>7</td>\n",
       "      <td>1</td>\n",
       "      <td>1</td>\n",
       "      <td>0</td>\n",
       "      <td>0</td>\n",
       "      <td>...</td>\n",
       "      <td>0</td>\n",
       "      <td>0</td>\n",
       "      <td>0</td>\n",
       "      <td>0</td>\n",
       "      <td>0</td>\n",
       "      <td>0</td>\n",
       "      <td>1</td>\n",
       "      <td>0</td>\n",
       "      <td>1</td>\n",
       "      <td>0</td>\n",
       "    </tr>\n",
       "  </tbody>\n",
       "</table>\n",
       "<p>5 rows × 21 columns</p>\n",
       "</div>"
      ],
      "text/plain": [
       "   paymentMethodRegistrationFailure  transactionAmount  transactionFailed  \\\n",
       "0                                 1                 18                  0   \n",
       "1                                 1                 26                  0   \n",
       "2                                 0                 45                  0   \n",
       "3                                 0                 23                  0   \n",
       "4                                 1                 43                  1   \n",
       "\n",
       "   No_Transactions  No_Orders  No_Payments  Fraud  paymentMethodType_bitcoin  \\\n",
       "0                2          2            1      0                          0   \n",
       "1                2          2            1      0                          0   \n",
       "2                3          3            7      1                          1   \n",
       "3                3          3            7      1                          1   \n",
       "4                3          3            7      1                          1   \n",
       "\n",
       "   paymentMethodType_card  paymentMethodType_paypal  ...  \\\n",
       "0                       1                         0  ...   \n",
       "1                       1                         0  ...   \n",
       "2                       0                         0  ...   \n",
       "3                       0                         0  ...   \n",
       "4                       0                         0  ...   \n",
       "\n",
       "   paymentMethodProvider_Discover  paymentMethodProvider_JCB 15 digit  \\\n",
       "0                               0                                   0   \n",
       "1                               0                                   0   \n",
       "2                               0                                   0   \n",
       "3                               0                                   0   \n",
       "4                               0                                   0   \n",
       "\n",
       "   paymentMethodProvider_JCB 16 digit  paymentMethodProvider_Maestro  \\\n",
       "0                                   1                              0   \n",
       "1                                   1                              0   \n",
       "2                                   0                              0   \n",
       "3                                   0                              0   \n",
       "4                                   0                              0   \n",
       "\n",
       "   paymentMethodProvider_Mastercard  paymentMethodProvider_VISA 13 digit  \\\n",
       "0                                 0                                    0   \n",
       "1                                 0                                    0   \n",
       "2                                 0                                    0   \n",
       "3                                 0                                    0   \n",
       "4                                 0                                    0   \n",
       "\n",
       "   paymentMethodProvider_VISA 16 digit  paymentMethodProvider_Voyager  \\\n",
       "0                                    0                              0   \n",
       "1                                    0                              0   \n",
       "2                                    0                              0   \n",
       "3                                    0                              0   \n",
       "4                                    1                              0   \n",
       "\n",
       "   orderState_fulfilled  orderState_pending  \n",
       "0                     0                   1  \n",
       "1                     1                   0  \n",
       "2                     1                   0  \n",
       "3                     1                   0  \n",
       "4                     1                   0  \n",
       "\n",
       "[5 rows x 21 columns]"
      ]
     },
     "execution_count": 41,
     "metadata": {},
     "output_type": "execute_result"
    }
   ],
   "source": [
    "df3.head()"
   ]
  },
  {
   "cell_type": "code",
   "execution_count": 42,
   "id": "12b0af73",
   "metadata": {},
   "outputs": [],
   "source": [
    "X = df3.drop(\"Fraud\", axis=1)\n",
    "y = df3.Fraud"
   ]
  },
  {
   "cell_type": "code",
   "execution_count": 43,
   "id": "487ad985",
   "metadata": {},
   "outputs": [],
   "source": [
    "from sklearn.model_selection import train_test_split"
   ]
  },
  {
   "cell_type": "code",
   "execution_count": 44,
   "id": "b6c48b3c",
   "metadata": {},
   "outputs": [],
   "source": [
    "X_train, X_test, y_train, y_test = train_test_split(X, y, test_size=0.3, random_state=42)"
   ]
  },
  {
   "cell_type": "markdown",
   "id": "45df8b25",
   "metadata": {},
   "source": [
    "#### RANDOM FOREST CLASSIFIER"
   ]
  },
  {
   "cell_type": "code",
   "execution_count": 45,
   "id": "a7616a7f",
   "metadata": {},
   "outputs": [],
   "source": [
    "from sklearn.ensemble import RandomForestClassifier\n",
    "from sklearn.metrics import confusion_matrix,classification_report,accuracy_score"
   ]
  },
  {
   "cell_type": "code",
   "execution_count": 46,
   "id": "47bc3098",
   "metadata": {},
   "outputs": [
    {
     "name": "stdout",
     "output_type": "stream",
     "text": [
      "[[ 99  12]\n",
      " [ 18 117]]\n",
      "0.8780487804878049\n",
      "              precision    recall  f1-score   support\n",
      "\n",
      "           0       0.85      0.89      0.87       111\n",
      "           1       0.91      0.87      0.89       135\n",
      "\n",
      "    accuracy                           0.88       246\n",
      "   macro avg       0.88      0.88      0.88       246\n",
      "weighted avg       0.88      0.88      0.88       246\n",
      "\n"
     ]
    }
   ],
   "source": [
    "rfc = RandomForestClassifier(n_estimators=150)\n",
    "rfc.fit(X_train,y_train)\n",
    "pred = rfc.predict(X_test)\n",
    "print(confusion_matrix(y_test,pred))\n",
    "print(accuracy_score(y_test,pred))\n",
    "print(classification_report(y_test,pred))"
   ]
  },
  {
   "cell_type": "code",
   "execution_count": 47,
   "id": "81e39757",
   "metadata": {
    "scrolled": true
   },
   "outputs": [
    {
     "name": "stdout",
     "output_type": "stream",
     "text": [
      "[0.01978058 0.25744482 0.01900574 0.17822268 0.17094212 0.11724179\n",
      " 0.01074361 0.020577   0.02065007 0.01323303 0.01764712 0.01603071\n",
      " 0.01827334 0.02036534 0.01097803 0.01165409 0.02296082 0.02057596\n",
      " 0.02231906 0.01135409]\n"
     ]
    }
   ],
   "source": [
    "print(rfc.feature_importances_)"
   ]
  },
  {
   "cell_type": "code",
   "execution_count": 48,
   "id": "1619b124",
   "metadata": {},
   "outputs": [
    {
     "data": {
      "image/png": "[encoded data removed]",
      "text/plain": [
       "<Figure size 432x288 with 1 Axes>"
      ]
     },
     "metadata": {
      "needs_background": "light"
     },
     "output_type": "display_data"
    }
   ],
   "source": [
    "feat_importances = pd.Series(rfc.feature_importances_, index=X.columns)\n",
    "feat_importances.nlargest(5).plot(kind='barh')\n",
    "plt.show()"
   ]
  },
  {
   "cell_type": "markdown",
   "id": "30d99f56",
   "metadata": {},
   "source": [
    "#### LOGISTIC REGRESSION"
   ]
  },
  {
   "cell_type": "code",
   "execution_count": 49,
   "id": "2579b34e",
   "metadata": {},
   "outputs": [
    {
     "name": "stdout",
     "output_type": "stream",
     "text": [
      "[[ 57  54]\n",
      " [ 29 106]]\n",
      "0.6626016260162602\n",
      "              precision    recall  f1-score   support\n",
      "\n",
      "           0       0.66      0.51      0.58       111\n",
      "           1       0.66      0.79      0.72       135\n",
      "\n",
      "    accuracy                           0.66       246\n",
      "   macro avg       0.66      0.65      0.65       246\n",
      "weighted avg       0.66      0.66      0.66       246\n",
      "\n"
     ]
    }
   ],
   "source": [
    "from sklearn.linear_model import LogisticRegression\n",
    "logr = LogisticRegression()\n",
    "logr.fit(X_train,y_train)\n",
    "log_pred =logr.predict(X_test)\n",
    "print(confusion_matrix(y_test,log_pred))\n",
    "print(accuracy_score(y_test,log_pred))\n",
    "print(classification_report(y_test,log_pred))"
   ]
  },
  {
   "cell_type": "markdown",
   "id": "4021c51c",
   "metadata": {},
   "source": [
    "<b> Model selection reason </b>"
   ]
  },
  {
   "cell_type": "markdown",
   "id": "9da4a434",
   "metadata": {},
   "source": [
    "For Modeling we choose the Random Forest Classifier for this case because the behaviour of the data (especially transaction amount that has higher correlation) that shown in heatmap is <b> not linearly separable </b> (SVM, Regression) and it will be more effective if we use ensamble method like bagging or boosting. The RFC also very powerfull to cater the imbalance dataset so we choose it to cater the imbalance fraud cases eventhough the imbalance is not too significant."
   ]
  },
  {
   "cell_type": "markdown",
   "id": "e4783a35",
   "metadata": {},
   "source": [
    "As we can see Random Forest Classifier algorithm has better accuracy to predict the fraudulent transaction for this dataset compared to logistic regression. it shown also on the confussion matrix that RFC has better score of prediction."
   ]
  },
  {
   "cell_type": "markdown",
   "id": "e91c17b1",
   "metadata": {},
   "source": [
    "<b> Hyper parameter Tuning </b>"
   ]
  },
  {
   "cell_type": "code",
   "execution_count": 51,
   "id": "65bd80f5",
   "metadata": {},
   "outputs": [],
   "source": [
    "from sklearn.model_selection import GridSearchCV"
   ]
  },
  {
   "cell_type": "code",
   "execution_count": 52,
   "id": "1b8a9402",
   "metadata": {},
   "outputs": [],
   "source": [
    "rfc_param_grid = { \n",
    "    'n_estimators': [100,150,200,350,500],\n",
    "    'max_features': ['auto', 'sqrt', 'log2'],\n",
    "    'max_depth' : [4,5,6,7,8],\n",
    "    'criterion' :['gini', 'entropy']\n",
    "}"
   ]
  },
  {
   "cell_type": "code",
   "execution_count": 53,
   "id": "64b86196",
   "metadata": {},
   "outputs": [],
   "source": [
    "grid_rfc = GridSearchCV(RandomForestClassifier(),rfc_param_grid,refit=True,verbose=3)"
   ]
  },
  {
   "cell_type": "code",
   "execution_count": 54,
   "id": "efb61b1d",
   "metadata": {},
   "outputs": [
    {
     "name": "stdout",
     "output_type": "stream",
     "text": [
      "Fitting 5 folds for each of 150 candidates, totalling 750 fits\n",
      "[CV 1/5] END criterion=gini, max_depth=4, max_features=auto, n_estimators=100; total time=   0.1s\n",
      "[CV 2/5] END criterion=gini, max_depth=4, max_features=auto, n_estimators=100; total time=   0.1s\n",
      "[CV 3/5] END criterion=gini, max_depth=4, max_features=auto, n_estimators=100; total time=   0.1s\n",
      "[CV 4/5] END criterion=gini, max_depth=4, max_features=auto, n_estimators=100; total time=   0.1s\n",
      "[CV 5/5] END criterion=gini, max_depth=4, max_features=auto, n_estimators=100; total time=   0.1s\n",
      "[CV 1/5] END criterion=gini, max_depth=4, max_features=auto, n_estimators=150; total time=   0.2s\n",
      "[CV 2/5] END criterion=gini, max_depth=4, max_features=auto, n_estimators=150; total time=   0.2s\n",
      "[CV 3/5] END criterion=gini, max_depth=4, max_features=auto, n_estimators=150; total time=   0.2s\n",
      "[CV 4/5] END criterion=gini, max_depth=4, max_features=auto, n_estimators=150; total time=   0.2s\n",
      "[CV 5/5] END criterion=gini, max_depth=4, max_features=auto, n_estimators=150; total time=   0.2s\n",
      "[CV 1/5] END criterion=gini, max_depth=4, max_features=auto, n_estimators=200; total time=   0.2s\n",
      "[CV 2/5] END criterion=gini, max_depth=4, max_features=auto, n_estimators=200; total time=   0.3s\n",
      "[CV 3/5] END criterion=gini, max_depth=4, max_features=auto, n_estimators=200; total time=   0.2s\n",
      "[CV 4/5] END criterion=gini, max_depth=4, max_features=auto, n_estimators=200; total time=   0.2s\n",
      "[CV 5/5] END criterion=gini, max_depth=4, max_features=auto, n_estimators=200; total time=   0.3s\n",
      "[CV 1/5] END criterion=gini, max_depth=4, max_features=auto, n_estimators=350; total time=   0.5s\n",
      "[CV 2/5] END criterion=gini, max_depth=4, max_features=auto, n_estimators=350; total time=   0.5s\n",
      "[CV 3/5] END criterion=gini, max_depth=4, max_features=auto, n_estimators=350; total time=   0.5s\n",
      "[CV 4/5] END criterion=gini, max_depth=4, max_features=auto, n_estimators=350; total time=   0.5s\n",
      "[CV 5/5] END criterion=gini, max_depth=4, max_features=auto, n_estimators=350; total time=   0.5s\n",
      "[CV 1/5] END criterion=gini, max_depth=4, max_features=auto, n_estimators=500; total time=   0.7s\n",
      "[CV 2/5] END criterion=gini, max_depth=4, max_features=auto, n_estimators=500; total time=   0.7s\n",
      "[CV 3/5] END criterion=gini, max_depth=4, max_features=auto, n_estimators=500; total time=   0.7s\n",
      "[CV 4/5] END criterion=gini, max_depth=4, max_features=auto, n_estimators=500; total time=   0.7s\n",
      "[CV 5/5] END criterion=gini, max_depth=4, max_features=auto, n_estimators=500; total time=   0.7s\n",
      "[CV 1/5] END criterion=gini, max_depth=4, max_features=sqrt, n_estimators=100; total time=   0.1s\n",
      "[CV 2/5] END criterion=gini, max_depth=4, max_features=sqrt, n_estimators=100; total time=   0.1s\n",
      "[CV 3/5] END criterion=gini, max_depth=4, max_features=sqrt, n_estimators=100; total time=   0.1s\n",
      "[CV 4/5] END criterion=gini, max_depth=4, max_features=sqrt, n_estimators=100; total time=   0.1s\n",
      "[CV 5/5] END criterion=gini, max_depth=4, max_features=sqrt, n_estimators=100; total time=   0.1s\n",
      "[CV 1/5] END criterion=gini, max_depth=4, max_features=sqrt, n_estimators=150; total time=   0.2s\n",
      "[CV 2/5] END criterion=gini, max_depth=4, max_features=sqrt, n_estimators=150; total time=   0.2s\n",
      "[CV 3/5] END criterion=gini, max_depth=4, max_features=sqrt, n_estimators=150; total time=   0.2s\n",
      "[CV 4/5] END criterion=gini, max_depth=4, max_features=sqrt, n_estimators=150; total time=   0.2s\n",
      "[CV 5/5] END criterion=gini, max_depth=4, max_features=sqrt, n_estimators=150; total time=   0.2s\n",
      "[CV 1/5] END criterion=gini, max_depth=4, max_features=sqrt, n_estimators=200; total time=   0.2s\n",
      "[CV 2/5] END criterion=gini, max_depth=4, max_features=sqrt, n_estimators=200; total time=   0.3s\n",
      "[CV 3/5] END criterion=gini, max_depth=4, max_features=sqrt, n_estimators=200; total time=   0.4s\n",
      "[CV 4/5] END criterion=gini, max_depth=4, max_features=sqrt, n_estimators=200; total time=   0.4s\n",
      "[CV 5/5] END criterion=gini, max_depth=4, max_features=sqrt, n_estimators=200; total time=   0.3s\n",
      "[CV 1/5] END criterion=gini, max_depth=4, max_features=sqrt, n_estimators=350; total time=   0.5s\n",
      "[CV 2/5] END criterion=gini, max_depth=4, max_features=sqrt, n_estimators=350; total time=   0.5s\n",
      "[CV 3/5] END criterion=gini, max_depth=4, max_features=sqrt, n_estimators=350; total time=   0.5s\n",
      "[CV 4/5] END criterion=gini, max_depth=4, max_features=sqrt, n_estimators=350; total time=   0.5s\n",
      "[CV 5/5] END criterion=gini, max_depth=4, max_features=sqrt, n_estimators=350; total time=   0.7s\n",
      "[CV 1/5] END criterion=gini, max_depth=4, max_features=sqrt, n_estimators=500; total time=   0.8s\n",
      "[CV 2/5] END criterion=gini, max_depth=4, max_features=sqrt, n_estimators=500; total time=   0.7s\n",
      "[CV 3/5] END criterion=gini, max_depth=4, max_features=sqrt, n_estimators=500; total time=   0.7s\n",
      "[CV 4/5] END criterion=gini, max_depth=4, max_features=sqrt, n_estimators=500; total time=   0.9s\n",
      "[CV 5/5] END criterion=gini, max_depth=4, max_features=sqrt, n_estimators=500; total time=   0.7s\n",
      "[CV 1/5] END criterion=gini, max_depth=4, max_features=log2, n_estimators=100; total time=   0.1s\n",
      "[CV 2/5] END criterion=gini, max_depth=4, max_features=log2, n_estimators=100; total time=   0.1s\n",
      "[CV 3/5] END criterion=gini, max_depth=4, max_features=log2, n_estimators=100; total time=   0.1s\n",
      "[CV 4/5] END criterion=gini, max_depth=4, max_features=log2, n_estimators=100; total time=   0.1s\n",
      "[CV 5/5] END criterion=gini, max_depth=4, max_features=log2, n_estimators=100; total time=   0.1s\n",
      "[CV 1/5] END criterion=gini, max_depth=4, max_features=log2, n_estimators=150; total time=   0.2s\n",
      "[CV 2/5] END criterion=gini, max_depth=4, max_features=log2, n_estimators=150; total time=   0.2s\n",
      "[CV 3/5] END criterion=gini, max_depth=4, max_features=log2, n_estimators=150; total time=   0.2s\n",
      "[CV 4/5] END criterion=gini, max_depth=4, max_features=log2, n_estimators=150; total time=   0.2s\n",
      "[CV 5/5] END criterion=gini, max_depth=4, max_features=log2, n_estimators=150; total time=   0.2s\n",
      "[CV 1/5] END criterion=gini, max_depth=4, max_features=log2, n_estimators=200; total time=   0.2s\n",
      "[CV 2/5] END criterion=gini, max_depth=4, max_features=log2, n_estimators=200; total time=   0.3s\n",
      "[CV 3/5] END criterion=gini, max_depth=4, max_features=log2, n_estimators=200; total time=   0.3s\n",
      "[CV 4/5] END criterion=gini, max_depth=4, max_features=log2, n_estimators=200; total time=   0.2s\n",
      "[CV 5/5] END criterion=gini, max_depth=4, max_features=log2, n_estimators=200; total time=   0.2s\n",
      "[CV 1/5] END criterion=gini, max_depth=4, max_features=log2, n_estimators=350; total time=   0.5s\n",
      "[CV 2/5] END criterion=gini, max_depth=4, max_features=log2, n_estimators=350; total time=   0.5s\n",
      "[CV 3/5] END criterion=gini, max_depth=4, max_features=log2, n_estimators=350; total time=   0.5s\n",
      "[CV 4/5] END criterion=gini, max_depth=4, max_features=log2, n_estimators=350; total time=   0.5s\n",
      "[CV 5/5] END criterion=gini, max_depth=4, max_features=log2, n_estimators=350; total time=   0.5s\n",
      "[CV 1/5] END criterion=gini, max_depth=4, max_features=log2, n_estimators=500; total time=   1.1s\n",
      "[CV 2/5] END criterion=gini, max_depth=4, max_features=log2, n_estimators=500; total time=   0.8s\n",
      "[CV 3/5] END criterion=gini, max_depth=4, max_features=log2, n_estimators=500; total time=   0.8s\n",
      "[CV 4/5] END criterion=gini, max_depth=4, max_features=log2, n_estimators=500; total time=   0.7s\n",
      "[CV 5/5] END criterion=gini, max_depth=4, max_features=log2, n_estimators=500; total time=   0.7s\n",
      "[CV 1/5] END criterion=gini, max_depth=5, max_features=auto, n_estimators=100; total time=   0.1s\n",
      "[CV 2/5] END criterion=gini, max_depth=5, max_features=auto, n_estimators=100; total time=   0.1s\n",
      "[CV 3/5] END criterion=gini, max_depth=5, max_features=auto, n_estimators=100; total time=   0.1s\n",
      "[CV 4/5] END criterion=gini, max_depth=5, max_features=auto, n_estimators=100; total time=   0.1s\n",
      "[CV 5/5] END criterion=gini, max_depth=5, max_features=auto, n_estimators=100; total time=   0.1s\n",
      "[CV 1/5] END criterion=gini, max_depth=5, max_features=auto, n_estimators=150; total time=   0.2s\n",
      "[CV 2/5] END criterion=gini, max_depth=5, max_features=auto, n_estimators=150; total time=   0.2s\n",
      "[CV 3/5] END criterion=gini, max_depth=5, max_features=auto, n_estimators=150; total time=   0.2s\n"
     ]
    },
    {
     "name": "stdout",
     "output_type": "stream",
     "text": [
      "[CV 4/5] END criterion=gini, max_depth=5, max_features=auto, n_estimators=150; total time=   0.2s\n",
      "[CV 5/5] END criterion=gini, max_depth=5, max_features=auto, n_estimators=150; total time=   0.2s\n",
      "[CV 1/5] END criterion=gini, max_depth=5, max_features=auto, n_estimators=200; total time=   0.2s\n",
      "[CV 2/5] END criterion=gini, max_depth=5, max_features=auto, n_estimators=200; total time=   0.2s\n",
      "[CV 3/5] END criterion=gini, max_depth=5, max_features=auto, n_estimators=200; total time=   0.2s\n",
      "[CV 4/5] END criterion=gini, max_depth=5, max_features=auto, n_estimators=200; total time=   0.3s\n",
      "[CV 5/5] END criterion=gini, max_depth=5, max_features=auto, n_estimators=200; total time=   0.3s\n",
      "[CV 1/5] END criterion=gini, max_depth=5, max_features=auto, n_estimators=350; total time=   0.5s\n",
      "[CV 2/5] END criterion=gini, max_depth=5, max_features=auto, n_estimators=350; total time=   0.5s\n",
      "[CV 3/5] END criterion=gini, max_depth=5, max_features=auto, n_estimators=350; total time=   0.5s\n",
      "[CV 4/5] END criterion=gini, max_depth=5, max_features=auto, n_estimators=350; total time=   0.5s\n",
      "[CV 5/5] END criterion=gini, max_depth=5, max_features=auto, n_estimators=350; total time=   0.5s\n",
      "[CV 1/5] END criterion=gini, max_depth=5, max_features=auto, n_estimators=500; total time=   0.7s\n",
      "[CV 2/5] END criterion=gini, max_depth=5, max_features=auto, n_estimators=500; total time=   0.8s\n",
      "[CV 3/5] END criterion=gini, max_depth=5, max_features=auto, n_estimators=500; total time=   0.7s\n",
      "[CV 4/5] END criterion=gini, max_depth=5, max_features=auto, n_estimators=500; total time=   0.8s\n",
      "[CV 5/5] END criterion=gini, max_depth=5, max_features=auto, n_estimators=500; total time=   0.9s\n",
      "[CV 1/5] END criterion=gini, max_depth=5, max_features=sqrt, n_estimators=100; total time=   0.2s\n",
      "[CV 2/5] END criterion=gini, max_depth=5, max_features=sqrt, n_estimators=100; total time=   0.2s\n",
      "[CV 3/5] END criterion=gini, max_depth=5, max_features=sqrt, n_estimators=100; total time=   0.2s\n",
      "[CV 4/5] END criterion=gini, max_depth=5, max_features=sqrt, n_estimators=100; total time=   0.2s\n",
      "[CV 5/5] END criterion=gini, max_depth=5, max_features=sqrt, n_estimators=100; total time=   0.1s\n",
      "[CV 1/5] END criterion=gini, max_depth=5, max_features=sqrt, n_estimators=150; total time=   0.2s\n",
      "[CV 2/5] END criterion=gini, max_depth=5, max_features=sqrt, n_estimators=150; total time=   0.2s\n",
      "[CV 3/5] END criterion=gini, max_depth=5, max_features=sqrt, n_estimators=150; total time=   0.6s\n",
      "[CV 4/5] END criterion=gini, max_depth=5, max_features=sqrt, n_estimators=150; total time=   0.3s\n",
      "[CV 5/5] END criterion=gini, max_depth=5, max_features=sqrt, n_estimators=150; total time=   0.2s\n",
      "[CV 1/5] END criterion=gini, max_depth=5, max_features=sqrt, n_estimators=200; total time=   0.2s\n",
      "[CV 2/5] END criterion=gini, max_depth=5, max_features=sqrt, n_estimators=200; total time=   0.2s\n",
      "[CV 3/5] END criterion=gini, max_depth=5, max_features=sqrt, n_estimators=200; total time=   0.3s\n",
      "[CV 4/5] END criterion=gini, max_depth=5, max_features=sqrt, n_estimators=200; total time=   0.2s\n",
      "[CV 5/5] END criterion=gini, max_depth=5, max_features=sqrt, n_estimators=200; total time=   0.2s\n",
      "[CV 1/5] END criterion=gini, max_depth=5, max_features=sqrt, n_estimators=350; total time=   0.5s\n",
      "[CV 2/5] END criterion=gini, max_depth=5, max_features=sqrt, n_estimators=350; total time=   0.5s\n",
      "[CV 3/5] END criterion=gini, max_depth=5, max_features=sqrt, n_estimators=350; total time=   0.5s\n",
      "[CV 4/5] END criterion=gini, max_depth=5, max_features=sqrt, n_estimators=350; total time=   0.5s\n",
      "[CV 5/5] END criterion=gini, max_depth=5, max_features=sqrt, n_estimators=350; total time=   0.5s\n",
      "[CV 1/5] END criterion=gini, max_depth=5, max_features=sqrt, n_estimators=500; total time=   0.9s\n",
      "[CV 2/5] END criterion=gini, max_depth=5, max_features=sqrt, n_estimators=500; total time=   0.9s\n",
      "[CV 3/5] END criterion=gini, max_depth=5, max_features=sqrt, n_estimators=500; total time=   0.8s\n",
      "[CV 4/5] END criterion=gini, max_depth=5, max_features=sqrt, n_estimators=500; total time=   0.8s\n",
      "[CV 5/5] END criterion=gini, max_depth=5, max_features=sqrt, n_estimators=500; total time=   0.8s\n",
      "[CV 1/5] END criterion=gini, max_depth=5, max_features=log2, n_estimators=100; total time=   0.1s\n",
      "[CV 2/5] END criterion=gini, max_depth=5, max_features=log2, n_estimators=100; total time=   0.1s\n",
      "[CV 3/5] END criterion=gini, max_depth=5, max_features=log2, n_estimators=100; total time=   0.1s\n",
      "[CV 4/5] END criterion=gini, max_depth=5, max_features=log2, n_estimators=100; total time=   0.1s\n",
      "[CV 5/5] END criterion=gini, max_depth=5, max_features=log2, n_estimators=100; total time=   0.1s\n",
      "[CV 1/5] END criterion=gini, max_depth=5, max_features=log2, n_estimators=150; total time=   0.2s\n",
      "[CV 2/5] END criterion=gini, max_depth=5, max_features=log2, n_estimators=150; total time=   0.2s\n",
      "[CV 3/5] END criterion=gini, max_depth=5, max_features=log2, n_estimators=150; total time=   0.2s\n",
      "[CV 4/5] END criterion=gini, max_depth=5, max_features=log2, n_estimators=150; total time=   0.2s\n",
      "[CV 5/5] END criterion=gini, max_depth=5, max_features=log2, n_estimators=150; total time=   0.2s\n",
      "[CV 1/5] END criterion=gini, max_depth=5, max_features=log2, n_estimators=200; total time=   0.3s\n",
      "[CV 2/5] END criterion=gini, max_depth=5, max_features=log2, n_estimators=200; total time=   0.4s\n",
      "[CV 3/5] END criterion=gini, max_depth=5, max_features=log2, n_estimators=200; total time=   0.5s\n",
      "[CV 4/5] END criterion=gini, max_depth=5, max_features=log2, n_estimators=200; total time=   0.5s\n",
      "[CV 5/5] END criterion=gini, max_depth=5, max_features=log2, n_estimators=200; total time=   0.4s\n",
      "[CV 1/5] END criterion=gini, max_depth=5, max_features=log2, n_estimators=350; total time=   0.6s\n",
      "[CV 2/5] END criterion=gini, max_depth=5, max_features=log2, n_estimators=350; total time=   0.5s\n",
      "[CV 3/5] END criterion=gini, max_depth=5, max_features=log2, n_estimators=350; total time=   0.5s\n",
      "[CV 4/5] END criterion=gini, max_depth=5, max_features=log2, n_estimators=350; total time=   0.5s\n",
      "[CV 5/5] END criterion=gini, max_depth=5, max_features=log2, n_estimators=350; total time=   0.5s\n",
      "[CV 1/5] END criterion=gini, max_depth=5, max_features=log2, n_estimators=500; total time=   0.7s\n",
      "[CV 2/5] END criterion=gini, max_depth=5, max_features=log2, n_estimators=500; total time=   0.8s\n",
      "[CV 3/5] END criterion=gini, max_depth=5, max_features=log2, n_estimators=500; total time=   0.7s\n",
      "[CV 4/5] END criterion=gini, max_depth=5, max_features=log2, n_estimators=500; total time=   0.8s\n",
      "[CV 5/5] END criterion=gini, max_depth=5, max_features=log2, n_estimators=500; total time=   0.8s\n",
      "[CV 1/5] END criterion=gini, max_depth=6, max_features=auto, n_estimators=100; total time=   0.1s\n",
      "[CV 2/5] END criterion=gini, max_depth=6, max_features=auto, n_estimators=100; total time=   0.1s\n",
      "[CV 3/5] END criterion=gini, max_depth=6, max_features=auto, n_estimators=100; total time=   0.1s\n",
      "[CV 4/5] END criterion=gini, max_depth=6, max_features=auto, n_estimators=100; total time=   0.1s\n",
      "[CV 5/5] END criterion=gini, max_depth=6, max_features=auto, n_estimators=100; total time=   0.1s\n",
      "[CV 1/5] END criterion=gini, max_depth=6, max_features=auto, n_estimators=150; total time=   0.2s\n",
      "[CV 2/5] END criterion=gini, max_depth=6, max_features=auto, n_estimators=150; total time=   0.2s\n",
      "[CV 3/5] END criterion=gini, max_depth=6, max_features=auto, n_estimators=150; total time=   0.2s\n",
      "[CV 4/5] END criterion=gini, max_depth=6, max_features=auto, n_estimators=150; total time=   0.2s\n",
      "[CV 5/5] END criterion=gini, max_depth=6, max_features=auto, n_estimators=150; total time=   0.2s\n",
      "[CV 1/5] END criterion=gini, max_depth=6, max_features=auto, n_estimators=200; total time=   0.3s\n",
      "[CV 2/5] END criterion=gini, max_depth=6, max_features=auto, n_estimators=200; total time=   0.3s\n",
      "[CV 3/5] END criterion=gini, max_depth=6, max_features=auto, n_estimators=200; total time=   0.3s\n",
      "[CV 4/5] END criterion=gini, max_depth=6, max_features=auto, n_estimators=200; total time=   0.3s\n",
      "[CV 5/5] END criterion=gini, max_depth=6, max_features=auto, n_estimators=200; total time=   0.3s\n",
      "[CV 1/5] END criterion=gini, max_depth=6, max_features=auto, n_estimators=350; total time=   0.5s\n",
      "[CV 2/5] END criterion=gini, max_depth=6, max_features=auto, n_estimators=350; total time=   0.5s\n"
     ]
    },
    {
     "name": "stdout",
     "output_type": "stream",
     "text": [
      "[CV 3/5] END criterion=gini, max_depth=6, max_features=auto, n_estimators=350; total time=   0.5s\n",
      "[CV 4/5] END criterion=gini, max_depth=6, max_features=auto, n_estimators=350; total time=   0.5s\n",
      "[CV 5/5] END criterion=gini, max_depth=6, max_features=auto, n_estimators=350; total time=   1.2s\n",
      "[CV 1/5] END criterion=gini, max_depth=6, max_features=auto, n_estimators=500; total time=   0.9s\n",
      "[CV 2/5] END criterion=gini, max_depth=6, max_features=auto, n_estimators=500; total time=   0.8s\n",
      "[CV 3/5] END criterion=gini, max_depth=6, max_features=auto, n_estimators=500; total time=   0.8s\n",
      "[CV 4/5] END criterion=gini, max_depth=6, max_features=auto, n_estimators=500; total time=   0.8s\n",
      "[CV 5/5] END criterion=gini, max_depth=6, max_features=auto, n_estimators=500; total time=   0.7s\n",
      "[CV 1/5] END criterion=gini, max_depth=6, max_features=sqrt, n_estimators=100; total time=   0.1s\n",
      "[CV 2/5] END criterion=gini, max_depth=6, max_features=sqrt, n_estimators=100; total time=   0.1s\n",
      "[CV 3/5] END criterion=gini, max_depth=6, max_features=sqrt, n_estimators=100; total time=   0.1s\n",
      "[CV 4/5] END criterion=gini, max_depth=6, max_features=sqrt, n_estimators=100; total time=   0.1s\n",
      "[CV 5/5] END criterion=gini, max_depth=6, max_features=sqrt, n_estimators=100; total time=   0.1s\n",
      "[CV 1/5] END criterion=gini, max_depth=6, max_features=sqrt, n_estimators=150; total time=   0.2s\n",
      "[CV 2/5] END criterion=gini, max_depth=6, max_features=sqrt, n_estimators=150; total time=   0.2s\n",
      "[CV 3/5] END criterion=gini, max_depth=6, max_features=sqrt, n_estimators=150; total time=   0.2s\n",
      "[CV 4/5] END criterion=gini, max_depth=6, max_features=sqrt, n_estimators=150; total time=   0.2s\n",
      "[CV 5/5] END criterion=gini, max_depth=6, max_features=sqrt, n_estimators=150; total time=   0.2s\n",
      "[CV 1/5] END criterion=gini, max_depth=6, max_features=sqrt, n_estimators=200; total time=   0.3s\n",
      "[CV 2/5] END criterion=gini, max_depth=6, max_features=sqrt, n_estimators=200; total time=   0.2s\n",
      "[CV 3/5] END criterion=gini, max_depth=6, max_features=sqrt, n_estimators=200; total time=   0.3s\n",
      "[CV 4/5] END criterion=gini, max_depth=6, max_features=sqrt, n_estimators=200; total time=   0.3s\n",
      "[CV 5/5] END criterion=gini, max_depth=6, max_features=sqrt, n_estimators=200; total time=   0.3s\n",
      "[CV 1/5] END criterion=gini, max_depth=6, max_features=sqrt, n_estimators=350; total time=   0.6s\n",
      "[CV 2/5] END criterion=gini, max_depth=6, max_features=sqrt, n_estimators=350; total time=   0.5s\n",
      "[CV 3/5] END criterion=gini, max_depth=6, max_features=sqrt, n_estimators=350; total time=   0.5s\n",
      "[CV 4/5] END criterion=gini, max_depth=6, max_features=sqrt, n_estimators=350; total time=   0.5s\n",
      "[CV 5/5] END criterion=gini, max_depth=6, max_features=sqrt, n_estimators=350; total time=   0.5s\n",
      "[CV 1/5] END criterion=gini, max_depth=6, max_features=sqrt, n_estimators=500; total time=   0.8s\n",
      "[CV 2/5] END criterion=gini, max_depth=6, max_features=sqrt, n_estimators=500; total time=   0.8s\n",
      "[CV 3/5] END criterion=gini, max_depth=6, max_features=sqrt, n_estimators=500; total time=   0.8s\n",
      "[CV 4/5] END criterion=gini, max_depth=6, max_features=sqrt, n_estimators=500; total time=   1.1s\n",
      "[CV 5/5] END criterion=gini, max_depth=6, max_features=sqrt, n_estimators=500; total time=   0.9s\n",
      "[CV 1/5] END criterion=gini, max_depth=6, max_features=log2, n_estimators=100; total time=   0.1s\n",
      "[CV 2/5] END criterion=gini, max_depth=6, max_features=log2, n_estimators=100; total time=   0.1s\n",
      "[CV 3/5] END criterion=gini, max_depth=6, max_features=log2, n_estimators=100; total time=   0.1s\n",
      "[CV 4/5] END criterion=gini, max_depth=6, max_features=log2, n_estimators=100; total time=   0.1s\n",
      "[CV 5/5] END criterion=gini, max_depth=6, max_features=log2, n_estimators=100; total time=   0.1s\n",
      "[CV 1/5] END criterion=gini, max_depth=6, max_features=log2, n_estimators=150; total time=   0.2s\n",
      "[CV 2/5] END criterion=gini, max_depth=6, max_features=log2, n_estimators=150; total time=   0.2s\n",
      "[CV 3/5] END criterion=gini, max_depth=6, max_features=log2, n_estimators=150; total time=   0.2s\n",
      "[CV 4/5] END criterion=gini, max_depth=6, max_features=log2, n_estimators=150; total time=   0.2s\n",
      "[CV 5/5] END criterion=gini, max_depth=6, max_features=log2, n_estimators=150; total time=   0.2s\n",
      "[CV 1/5] END criterion=gini, max_depth=6, max_features=log2, n_estimators=200; total time=   0.3s\n",
      "[CV 2/5] END criterion=gini, max_depth=6, max_features=log2, n_estimators=200; total time=   0.3s\n",
      "[CV 3/5] END criterion=gini, max_depth=6, max_features=log2, n_estimators=200; total time=   0.3s\n",
      "[CV 4/5] END criterion=gini, max_depth=6, max_features=log2, n_estimators=200; total time=   0.3s\n",
      "[CV 5/5] END criterion=gini, max_depth=6, max_features=log2, n_estimators=200; total time=   0.3s\n",
      "[CV 1/5] END criterion=gini, max_depth=6, max_features=log2, n_estimators=350; total time=   0.5s\n",
      "[CV 2/5] END criterion=gini, max_depth=6, max_features=log2, n_estimators=350; total time=   0.5s\n",
      "[CV 3/5] END criterion=gini, max_depth=6, max_features=log2, n_estimators=350; total time=   0.5s\n",
      "[CV 4/5] END criterion=gini, max_depth=6, max_features=log2, n_estimators=350; total time=   0.5s\n",
      "[CV 5/5] END criterion=gini, max_depth=6, max_features=log2, n_estimators=350; total time=   0.5s\n",
      "[CV 1/5] END criterion=gini, max_depth=6, max_features=log2, n_estimators=500; total time=   0.8s\n",
      "[CV 2/5] END criterion=gini, max_depth=6, max_features=log2, n_estimators=500; total time=   0.8s\n",
      "[CV 3/5] END criterion=gini, max_depth=6, max_features=log2, n_estimators=500; total time=   0.8s\n",
      "[CV 4/5] END criterion=gini, max_depth=6, max_features=log2, n_estimators=500; total time=   0.8s\n",
      "[CV 5/5] END criterion=gini, max_depth=6, max_features=log2, n_estimators=500; total time=   0.8s\n",
      "[CV 1/5] END criterion=gini, max_depth=7, max_features=auto, n_estimators=100; total time=   0.1s\n",
      "[CV 2/5] END criterion=gini, max_depth=7, max_features=auto, n_estimators=100; total time=   0.1s\n",
      "[CV 3/5] END criterion=gini, max_depth=7, max_features=auto, n_estimators=100; total time=   0.1s\n",
      "[CV 4/5] END criterion=gini, max_depth=7, max_features=auto, n_estimators=100; total time=   0.1s\n",
      "[CV 5/5] END criterion=gini, max_depth=7, max_features=auto, n_estimators=100; total time=   0.1s\n",
      "[CV 1/5] END criterion=gini, max_depth=7, max_features=auto, n_estimators=150; total time=   0.2s\n",
      "[CV 2/5] END criterion=gini, max_depth=7, max_features=auto, n_estimators=150; total time=   0.2s\n",
      "[CV 3/5] END criterion=gini, max_depth=7, max_features=auto, n_estimators=150; total time=   0.2s\n",
      "[CV 4/5] END criterion=gini, max_depth=7, max_features=auto, n_estimators=150; total time=   0.2s\n",
      "[CV 5/5] END criterion=gini, max_depth=7, max_features=auto, n_estimators=150; total time=   0.2s\n",
      "[CV 1/5] END criterion=gini, max_depth=7, max_features=auto, n_estimators=200; total time=   0.4s\n",
      "[CV 2/5] END criterion=gini, max_depth=7, max_features=auto, n_estimators=200; total time=   0.4s\n",
      "[CV 3/5] END criterion=gini, max_depth=7, max_features=auto, n_estimators=200; total time=   0.3s\n",
      "[CV 4/5] END criterion=gini, max_depth=7, max_features=auto, n_estimators=200; total time=   0.3s\n",
      "[CV 5/5] END criterion=gini, max_depth=7, max_features=auto, n_estimators=200; total time=   0.3s\n",
      "[CV 1/5] END criterion=gini, max_depth=7, max_features=auto, n_estimators=350; total time=   0.5s\n",
      "[CV 2/5] END criterion=gini, max_depth=7, max_features=auto, n_estimators=350; total time=   0.5s\n",
      "[CV 3/5] END criterion=gini, max_depth=7, max_features=auto, n_estimators=350; total time=   0.5s\n",
      "[CV 4/5] END criterion=gini, max_depth=7, max_features=auto, n_estimators=350; total time=   0.5s\n",
      "[CV 5/5] END criterion=gini, max_depth=7, max_features=auto, n_estimators=350; total time=   0.5s\n",
      "[CV 1/5] END criterion=gini, max_depth=7, max_features=auto, n_estimators=500; total time=   0.8s\n",
      "[CV 2/5] END criterion=gini, max_depth=7, max_features=auto, n_estimators=500; total time=   0.8s\n",
      "[CV 3/5] END criterion=gini, max_depth=7, max_features=auto, n_estimators=500; total time=   0.8s\n",
      "[CV 4/5] END criterion=gini, max_depth=7, max_features=auto, n_estimators=500; total time=   0.8s\n",
      "[CV 5/5] END criterion=gini, max_depth=7, max_features=auto, n_estimators=500; total time=   0.8s\n",
      "[CV 1/5] END criterion=gini, max_depth=7, max_features=sqrt, n_estimators=100; total time=   0.1s\n"
     ]
    },
    {
     "name": "stdout",
     "output_type": "stream",
     "text": [
      "[CV 2/5] END criterion=gini, max_depth=7, max_features=sqrt, n_estimators=100; total time=   0.1s\n",
      "[CV 3/5] END criterion=gini, max_depth=7, max_features=sqrt, n_estimators=100; total time=   0.1s\n",
      "[CV 4/5] END criterion=gini, max_depth=7, max_features=sqrt, n_estimators=100; total time=   0.1s\n",
      "[CV 5/5] END criterion=gini, max_depth=7, max_features=sqrt, n_estimators=100; total time=   0.1s\n",
      "[CV 1/5] END criterion=gini, max_depth=7, max_features=sqrt, n_estimators=150; total time=   0.2s\n",
      "[CV 2/5] END criterion=gini, max_depth=7, max_features=sqrt, n_estimators=150; total time=   0.2s\n",
      "[CV 3/5] END criterion=gini, max_depth=7, max_features=sqrt, n_estimators=150; total time=   0.2s\n",
      "[CV 4/5] END criterion=gini, max_depth=7, max_features=sqrt, n_estimators=150; total time=   0.2s\n",
      "[CV 5/5] END criterion=gini, max_depth=7, max_features=sqrt, n_estimators=150; total time=   0.2s\n",
      "[CV 1/5] END criterion=gini, max_depth=7, max_features=sqrt, n_estimators=200; total time=   0.3s\n",
      "[CV 2/5] END criterion=gini, max_depth=7, max_features=sqrt, n_estimators=200; total time=   0.3s\n",
      "[CV 3/5] END criterion=gini, max_depth=7, max_features=sqrt, n_estimators=200; total time=   0.3s\n",
      "[CV 4/5] END criterion=gini, max_depth=7, max_features=sqrt, n_estimators=200; total time=   0.2s\n",
      "[CV 5/5] END criterion=gini, max_depth=7, max_features=sqrt, n_estimators=200; total time=   0.2s\n",
      "[CV 1/5] END criterion=gini, max_depth=7, max_features=sqrt, n_estimators=350; total time=   0.5s\n",
      "[CV 2/5] END criterion=gini, max_depth=7, max_features=sqrt, n_estimators=350; total time=   0.5s\n",
      "[CV 3/5] END criterion=gini, max_depth=7, max_features=sqrt, n_estimators=350; total time=   0.5s\n",
      "[CV 4/5] END criterion=gini, max_depth=7, max_features=sqrt, n_estimators=350; total time=   0.6s\n",
      "[CV 5/5] END criterion=gini, max_depth=7, max_features=sqrt, n_estimators=350; total time=   0.7s\n",
      "[CV 1/5] END criterion=gini, max_depth=7, max_features=sqrt, n_estimators=500; total time=   0.8s\n",
      "[CV 2/5] END criterion=gini, max_depth=7, max_features=sqrt, n_estimators=500; total time=   0.8s\n",
      "[CV 3/5] END criterion=gini, max_depth=7, max_features=sqrt, n_estimators=500; total time=   0.8s\n",
      "[CV 4/5] END criterion=gini, max_depth=7, max_features=sqrt, n_estimators=500; total time=   0.8s\n",
      "[CV 5/5] END criterion=gini, max_depth=7, max_features=sqrt, n_estimators=500; total time=   0.8s\n",
      "[CV 1/5] END criterion=gini, max_depth=7, max_features=log2, n_estimators=100; total time=   0.1s\n",
      "[CV 2/5] END criterion=gini, max_depth=7, max_features=log2, n_estimators=100; total time=   0.1s\n",
      "[CV 3/5] END criterion=gini, max_depth=7, max_features=log2, n_estimators=100; total time=   0.1s\n",
      "[CV 4/5] END criterion=gini, max_depth=7, max_features=log2, n_estimators=100; total time=   0.1s\n",
      "[CV 5/5] END criterion=gini, max_depth=7, max_features=log2, n_estimators=100; total time=   0.1s\n",
      "[CV 1/5] END criterion=gini, max_depth=7, max_features=log2, n_estimators=150; total time=   0.2s\n",
      "[CV 2/5] END criterion=gini, max_depth=7, max_features=log2, n_estimators=150; total time=   0.2s\n",
      "[CV 3/5] END criterion=gini, max_depth=7, max_features=log2, n_estimators=150; total time=   0.2s\n",
      "[CV 4/5] END criterion=gini, max_depth=7, max_features=log2, n_estimators=150; total time=   0.2s\n",
      "[CV 5/5] END criterion=gini, max_depth=7, max_features=log2, n_estimators=150; total time=   0.2s\n",
      "[CV 1/5] END criterion=gini, max_depth=7, max_features=log2, n_estimators=200; total time=   0.3s\n",
      "[CV 2/5] END criterion=gini, max_depth=7, max_features=log2, n_estimators=200; total time=   0.3s\n",
      "[CV 3/5] END criterion=gini, max_depth=7, max_features=log2, n_estimators=200; total time=   0.3s\n",
      "[CV 4/5] END criterion=gini, max_depth=7, max_features=log2, n_estimators=200; total time=   0.3s\n",
      "[CV 5/5] END criterion=gini, max_depth=7, max_features=log2, n_estimators=200; total time=   0.3s\n",
      "[CV 1/5] END criterion=gini, max_depth=7, max_features=log2, n_estimators=350; total time=   0.5s\n",
      "[CV 2/5] END criterion=gini, max_depth=7, max_features=log2, n_estimators=350; total time=   0.5s\n",
      "[CV 3/5] END criterion=gini, max_depth=7, max_features=log2, n_estimators=350; total time=   0.5s\n",
      "[CV 4/5] END criterion=gini, max_depth=7, max_features=log2, n_estimators=350; total time=   0.5s\n",
      "[CV 5/5] END criterion=gini, max_depth=7, max_features=log2, n_estimators=350; total time=   0.5s\n",
      "[CV 1/5] END criterion=gini, max_depth=7, max_features=log2, n_estimators=500; total time=   0.8s\n",
      "[CV 2/5] END criterion=gini, max_depth=7, max_features=log2, n_estimators=500; total time=   0.8s\n",
      "[CV 3/5] END criterion=gini, max_depth=7, max_features=log2, n_estimators=500; total time=   0.8s\n",
      "[CV 4/5] END criterion=gini, max_depth=7, max_features=log2, n_estimators=500; total time=   1.0s\n",
      "[CV 5/5] END criterion=gini, max_depth=7, max_features=log2, n_estimators=500; total time=   0.9s\n",
      "[CV 1/5] END criterion=gini, max_depth=8, max_features=auto, n_estimators=100; total time=   0.1s\n",
      "[CV 2/5] END criterion=gini, max_depth=8, max_features=auto, n_estimators=100; total time=   0.1s\n",
      "[CV 3/5] END criterion=gini, max_depth=8, max_features=auto, n_estimators=100; total time=   0.1s\n",
      "[CV 4/5] END criterion=gini, max_depth=8, max_features=auto, n_estimators=100; total time=   0.1s\n",
      "[CV 5/5] END criterion=gini, max_depth=8, max_features=auto, n_estimators=100; total time=   0.1s\n",
      "[CV 1/5] END criterion=gini, max_depth=8, max_features=auto, n_estimators=150; total time=   0.2s\n",
      "[CV 2/5] END criterion=gini, max_depth=8, max_features=auto, n_estimators=150; total time=   0.2s\n",
      "[CV 3/5] END criterion=gini, max_depth=8, max_features=auto, n_estimators=150; total time=   0.2s\n",
      "[CV 4/5] END criterion=gini, max_depth=8, max_features=auto, n_estimators=150; total time=   0.2s\n",
      "[CV 5/5] END criterion=gini, max_depth=8, max_features=auto, n_estimators=150; total time=   0.2s\n",
      "[CV 1/5] END criterion=gini, max_depth=8, max_features=auto, n_estimators=200; total time=   0.3s\n",
      "[CV 2/5] END criterion=gini, max_depth=8, max_features=auto, n_estimators=200; total time=   0.3s\n",
      "[CV 3/5] END criterion=gini, max_depth=8, max_features=auto, n_estimators=200; total time=   0.3s\n",
      "[CV 4/5] END criterion=gini, max_depth=8, max_features=auto, n_estimators=200; total time=   0.3s\n",
      "[CV 5/5] END criterion=gini, max_depth=8, max_features=auto, n_estimators=200; total time=   0.3s\n",
      "[CV 1/5] END criterion=gini, max_depth=8, max_features=auto, n_estimators=350; total time=   0.5s\n",
      "[CV 2/5] END criterion=gini, max_depth=8, max_features=auto, n_estimators=350; total time=   0.5s\n",
      "[CV 3/5] END criterion=gini, max_depth=8, max_features=auto, n_estimators=350; total time=   0.5s\n",
      "[CV 4/5] END criterion=gini, max_depth=8, max_features=auto, n_estimators=350; total time=   0.5s\n",
      "[CV 5/5] END criterion=gini, max_depth=8, max_features=auto, n_estimators=350; total time=   0.5s\n",
      "[CV 1/5] END criterion=gini, max_depth=8, max_features=auto, n_estimators=500; total time=   1.0s\n",
      "[CV 2/5] END criterion=gini, max_depth=8, max_features=auto, n_estimators=500; total time=   1.0s\n",
      "[CV 3/5] END criterion=gini, max_depth=8, max_features=auto, n_estimators=500; total time=   1.0s\n",
      "[CV 4/5] END criterion=gini, max_depth=8, max_features=auto, n_estimators=500; total time=   0.9s\n",
      "[CV 5/5] END criterion=gini, max_depth=8, max_features=auto, n_estimators=500; total time=   1.0s\n",
      "[CV 1/5] END criterion=gini, max_depth=8, max_features=sqrt, n_estimators=100; total time=   0.1s\n",
      "[CV 2/5] END criterion=gini, max_depth=8, max_features=sqrt, n_estimators=100; total time=   0.2s\n",
      "[CV 3/5] END criterion=gini, max_depth=8, max_features=sqrt, n_estimators=100; total time=   0.1s\n",
      "[CV 4/5] END criterion=gini, max_depth=8, max_features=sqrt, n_estimators=100; total time=   0.1s\n",
      "[CV 5/5] END criterion=gini, max_depth=8, max_features=sqrt, n_estimators=100; total time=   0.2s\n",
      "[CV 1/5] END criterion=gini, max_depth=8, max_features=sqrt, n_estimators=150; total time=   0.2s\n",
      "[CV 2/5] END criterion=gini, max_depth=8, max_features=sqrt, n_estimators=150; total time=   0.3s\n",
      "[CV 3/5] END criterion=gini, max_depth=8, max_features=sqrt, n_estimators=150; total time=   0.4s\n",
      "[CV 4/5] END criterion=gini, max_depth=8, max_features=sqrt, n_estimators=150; total time=   0.4s\n",
      "[CV 5/5] END criterion=gini, max_depth=8, max_features=sqrt, n_estimators=150; total time=   0.3s\n"
     ]
    },
    {
     "name": "stdout",
     "output_type": "stream",
     "text": [
      "[CV 1/5] END criterion=gini, max_depth=8, max_features=sqrt, n_estimators=200; total time=   0.3s\n",
      "[CV 2/5] END criterion=gini, max_depth=8, max_features=sqrt, n_estimators=200; total time=   0.3s\n",
      "[CV 3/5] END criterion=gini, max_depth=8, max_features=sqrt, n_estimators=200; total time=   0.3s\n",
      "[CV 4/5] END criterion=gini, max_depth=8, max_features=sqrt, n_estimators=200; total time=   0.3s\n",
      "[CV 5/5] END criterion=gini, max_depth=8, max_features=sqrt, n_estimators=200; total time=   0.3s\n",
      "[CV 1/5] END criterion=gini, max_depth=8, max_features=sqrt, n_estimators=350; total time=   0.5s\n",
      "[CV 2/5] END criterion=gini, max_depth=8, max_features=sqrt, n_estimators=350; total time=   0.5s\n",
      "[CV 3/5] END criterion=gini, max_depth=8, max_features=sqrt, n_estimators=350; total time=   0.5s\n",
      "[CV 4/5] END criterion=gini, max_depth=8, max_features=sqrt, n_estimators=350; total time=   0.5s\n",
      "[CV 5/5] END criterion=gini, max_depth=8, max_features=sqrt, n_estimators=350; total time=   0.5s\n",
      "[CV 1/5] END criterion=gini, max_depth=8, max_features=sqrt, n_estimators=500; total time=   0.8s\n",
      "[CV 2/5] END criterion=gini, max_depth=8, max_features=sqrt, n_estimators=500; total time=   0.9s\n",
      "[CV 3/5] END criterion=gini, max_depth=8, max_features=sqrt, n_estimators=500; total time=   0.8s\n",
      "[CV 4/5] END criterion=gini, max_depth=8, max_features=sqrt, n_estimators=500; total time=   0.9s\n",
      "[CV 5/5] END criterion=gini, max_depth=8, max_features=sqrt, n_estimators=500; total time=   0.8s\n",
      "[CV 1/5] END criterion=gini, max_depth=8, max_features=log2, n_estimators=100; total time=   0.1s\n",
      "[CV 2/5] END criterion=gini, max_depth=8, max_features=log2, n_estimators=100; total time=   0.1s\n",
      "[CV 3/5] END criterion=gini, max_depth=8, max_features=log2, n_estimators=100; total time=   0.1s\n",
      "[CV 4/5] END criterion=gini, max_depth=8, max_features=log2, n_estimators=100; total time=   0.1s\n",
      "[CV 5/5] END criterion=gini, max_depth=8, max_features=log2, n_estimators=100; total time=   0.1s\n",
      "[CV 1/5] END criterion=gini, max_depth=8, max_features=log2, n_estimators=150; total time=   0.2s\n",
      "[CV 2/5] END criterion=gini, max_depth=8, max_features=log2, n_estimators=150; total time=   0.2s\n",
      "[CV 3/5] END criterion=gini, max_depth=8, max_features=log2, n_estimators=150; total time=   0.2s\n",
      "[CV 4/5] END criterion=gini, max_depth=8, max_features=log2, n_estimators=150; total time=   0.2s\n",
      "[CV 5/5] END criterion=gini, max_depth=8, max_features=log2, n_estimators=150; total time=   0.2s\n",
      "[CV 1/5] END criterion=gini, max_depth=8, max_features=log2, n_estimators=200; total time=   0.3s\n",
      "[CV 2/5] END criterion=gini, max_depth=8, max_features=log2, n_estimators=200; total time=   0.3s\n",
      "[CV 3/5] END criterion=gini, max_depth=8, max_features=log2, n_estimators=200; total time=   0.3s\n",
      "[CV 4/5] END criterion=gini, max_depth=8, max_features=log2, n_estimators=200; total time=   0.3s\n",
      "[CV 5/5] END criterion=gini, max_depth=8, max_features=log2, n_estimators=200; total time=   0.3s\n",
      "[CV 1/5] END criterion=gini, max_depth=8, max_features=log2, n_estimators=350; total time=   0.8s\n",
      "[CV 2/5] END criterion=gini, max_depth=8, max_features=log2, n_estimators=350; total time=   0.6s\n",
      "[CV 3/5] END criterion=gini, max_depth=8, max_features=log2, n_estimators=350; total time=   0.6s\n",
      "[CV 4/5] END criterion=gini, max_depth=8, max_features=log2, n_estimators=350; total time=   0.6s\n",
      "[CV 5/5] END criterion=gini, max_depth=8, max_features=log2, n_estimators=350; total time=   0.6s\n",
      "[CV 1/5] END criterion=gini, max_depth=8, max_features=log2, n_estimators=500; total time=   0.9s\n",
      "[CV 2/5] END criterion=gini, max_depth=8, max_features=log2, n_estimators=500; total time=   0.8s\n",
      "[CV 3/5] END criterion=gini, max_depth=8, max_features=log2, n_estimators=500; total time=   0.8s\n",
      "[CV 4/5] END criterion=gini, max_depth=8, max_features=log2, n_estimators=500; total time=   0.8s\n",
      "[CV 5/5] END criterion=gini, max_depth=8, max_features=log2, n_estimators=500; total time=   0.8s\n",
      "[CV 1/5] END criterion=entropy, max_depth=4, max_features=auto, n_estimators=100; total time=   0.1s\n",
      "[CV 2/5] END criterion=entropy, max_depth=4, max_features=auto, n_estimators=100; total time=   0.1s\n",
      "[CV 3/5] END criterion=entropy, max_depth=4, max_features=auto, n_estimators=100; total time=   0.1s\n",
      "[CV 4/5] END criterion=entropy, max_depth=4, max_features=auto, n_estimators=100; total time=   0.1s\n",
      "[CV 5/5] END criterion=entropy, max_depth=4, max_features=auto, n_estimators=100; total time=   0.1s\n",
      "[CV 1/5] END criterion=entropy, max_depth=4, max_features=auto, n_estimators=150; total time=   0.2s\n",
      "[CV 2/5] END criterion=entropy, max_depth=4, max_features=auto, n_estimators=150; total time=   0.2s\n",
      "[CV 3/5] END criterion=entropy, max_depth=4, max_features=auto, n_estimators=150; total time=   0.2s\n",
      "[CV 4/5] END criterion=entropy, max_depth=4, max_features=auto, n_estimators=150; total time=   0.2s\n",
      "[CV 5/5] END criterion=entropy, max_depth=4, max_features=auto, n_estimators=150; total time=   0.2s\n",
      "[CV 1/5] END criterion=entropy, max_depth=4, max_features=auto, n_estimators=200; total time=   0.2s\n",
      "[CV 2/5] END criterion=entropy, max_depth=4, max_features=auto, n_estimators=200; total time=   0.2s\n",
      "[CV 3/5] END criterion=entropy, max_depth=4, max_features=auto, n_estimators=200; total time=   0.2s\n",
      "[CV 4/5] END criterion=entropy, max_depth=4, max_features=auto, n_estimators=200; total time=   0.2s\n",
      "[CV 5/5] END criterion=entropy, max_depth=4, max_features=auto, n_estimators=200; total time=   0.3s\n",
      "[CV 1/5] END criterion=entropy, max_depth=4, max_features=auto, n_estimators=350; total time=   0.5s\n",
      "[CV 2/5] END criterion=entropy, max_depth=4, max_features=auto, n_estimators=350; total time=   0.5s\n",
      "[CV 3/5] END criterion=entropy, max_depth=4, max_features=auto, n_estimators=350; total time=   0.8s\n",
      "[CV 4/5] END criterion=entropy, max_depth=4, max_features=auto, n_estimators=350; total time=   1.3s\n",
      "[CV 5/5] END criterion=entropy, max_depth=4, max_features=auto, n_estimators=350; total time=   0.9s\n",
      "[CV 1/5] END criterion=entropy, max_depth=4, max_features=auto, n_estimators=500; total time=   1.0s\n",
      "[CV 2/5] END criterion=entropy, max_depth=4, max_features=auto, n_estimators=500; total time=   0.9s\n",
      "[CV 3/5] END criterion=entropy, max_depth=4, max_features=auto, n_estimators=500; total time=   0.8s\n",
      "[CV 4/5] END criterion=entropy, max_depth=4, max_features=auto, n_estimators=500; total time=   0.8s\n",
      "[CV 5/5] END criterion=entropy, max_depth=4, max_features=auto, n_estimators=500; total time=   0.7s\n",
      "[CV 1/5] END criterion=entropy, max_depth=4, max_features=sqrt, n_estimators=100; total time=   0.1s\n",
      "[CV 2/5] END criterion=entropy, max_depth=4, max_features=sqrt, n_estimators=100; total time=   0.1s\n",
      "[CV 3/5] END criterion=entropy, max_depth=4, max_features=sqrt, n_estimators=100; total time=   0.1s\n",
      "[CV 4/5] END criterion=entropy, max_depth=4, max_features=sqrt, n_estimators=100; total time=   0.1s\n",
      "[CV 5/5] END criterion=entropy, max_depth=4, max_features=sqrt, n_estimators=100; total time=   0.1s\n",
      "[CV 1/5] END criterion=entropy, max_depth=4, max_features=sqrt, n_estimators=150; total time=   0.2s\n",
      "[CV 2/5] END criterion=entropy, max_depth=4, max_features=sqrt, n_estimators=150; total time=   0.2s\n",
      "[CV 3/5] END criterion=entropy, max_depth=4, max_features=sqrt, n_estimators=150; total time=   0.2s\n",
      "[CV 4/5] END criterion=entropy, max_depth=4, max_features=sqrt, n_estimators=150; total time=   0.2s\n",
      "[CV 5/5] END criterion=entropy, max_depth=4, max_features=sqrt, n_estimators=150; total time=   0.2s\n",
      "[CV 1/5] END criterion=entropy, max_depth=4, max_features=sqrt, n_estimators=200; total time=   0.3s\n",
      "[CV 2/5] END criterion=entropy, max_depth=4, max_features=sqrt, n_estimators=200; total time=   0.3s\n",
      "[CV 3/5] END criterion=entropy, max_depth=4, max_features=sqrt, n_estimators=200; total time=   0.3s\n",
      "[CV 4/5] END criterion=entropy, max_depth=4, max_features=sqrt, n_estimators=200; total time=   0.3s\n",
      "[CV 5/5] END criterion=entropy, max_depth=4, max_features=sqrt, n_estimators=200; total time=   0.2s\n",
      "[CV 1/5] END criterion=entropy, max_depth=4, max_features=sqrt, n_estimators=350; total time=   0.5s\n",
      "[CV 2/5] END criterion=entropy, max_depth=4, max_features=sqrt, n_estimators=350; total time=   0.5s\n",
      "[CV 3/5] END criterion=entropy, max_depth=4, max_features=sqrt, n_estimators=350; total time=   0.5s\n"
     ]
    },
    {
     "name": "stdout",
     "output_type": "stream",
     "text": [
      "[CV 4/5] END criterion=entropy, max_depth=4, max_features=sqrt, n_estimators=350; total time=   0.5s\n",
      "[CV 5/5] END criterion=entropy, max_depth=4, max_features=sqrt, n_estimators=350; total time=   0.5s\n",
      "[CV 1/5] END criterion=entropy, max_depth=4, max_features=sqrt, n_estimators=500; total time=   0.8s\n",
      "[CV 2/5] END criterion=entropy, max_depth=4, max_features=sqrt, n_estimators=500; total time=   0.8s\n",
      "[CV 3/5] END criterion=entropy, max_depth=4, max_features=sqrt, n_estimators=500; total time=   0.8s\n",
      "[CV 4/5] END criterion=entropy, max_depth=4, max_features=sqrt, n_estimators=500; total time=   1.2s\n",
      "[CV 5/5] END criterion=entropy, max_depth=4, max_features=sqrt, n_estimators=500; total time=   1.0s\n",
      "[CV 1/5] END criterion=entropy, max_depth=4, max_features=log2, n_estimators=100; total time=   0.1s\n",
      "[CV 2/5] END criterion=entropy, max_depth=4, max_features=log2, n_estimators=100; total time=   0.1s\n",
      "[CV 3/5] END criterion=entropy, max_depth=4, max_features=log2, n_estimators=100; total time=   0.1s\n",
      "[CV 4/5] END criterion=entropy, max_depth=4, max_features=log2, n_estimators=100; total time=   0.1s\n",
      "[CV 5/5] END criterion=entropy, max_depth=4, max_features=log2, n_estimators=100; total time=   0.1s\n",
      "[CV 1/5] END criterion=entropy, max_depth=4, max_features=log2, n_estimators=150; total time=   0.2s\n",
      "[CV 2/5] END criterion=entropy, max_depth=4, max_features=log2, n_estimators=150; total time=   0.2s\n",
      "[CV 3/5] END criterion=entropy, max_depth=4, max_features=log2, n_estimators=150; total time=   0.2s\n",
      "[CV 4/5] END criterion=entropy, max_depth=4, max_features=log2, n_estimators=150; total time=   0.2s\n",
      "[CV 5/5] END criterion=entropy, max_depth=4, max_features=log2, n_estimators=150; total time=   0.2s\n",
      "[CV 1/5] END criterion=entropy, max_depth=4, max_features=log2, n_estimators=200; total time=   0.3s\n",
      "[CV 2/5] END criterion=entropy, max_depth=4, max_features=log2, n_estimators=200; total time=   0.3s\n",
      "[CV 3/5] END criterion=entropy, max_depth=4, max_features=log2, n_estimators=200; total time=   0.3s\n",
      "[CV 4/5] END criterion=entropy, max_depth=4, max_features=log2, n_estimators=200; total time=   0.3s\n",
      "[CV 5/5] END criterion=entropy, max_depth=4, max_features=log2, n_estimators=200; total time=   0.3s\n",
      "[CV 1/5] END criterion=entropy, max_depth=4, max_features=log2, n_estimators=350; total time=   0.5s\n",
      "[CV 2/5] END criterion=entropy, max_depth=4, max_features=log2, n_estimators=350; total time=   0.5s\n",
      "[CV 3/5] END criterion=entropy, max_depth=4, max_features=log2, n_estimators=350; total time=   0.5s\n",
      "[CV 4/5] END criterion=entropy, max_depth=4, max_features=log2, n_estimators=350; total time=   0.5s\n",
      "[CV 5/5] END criterion=entropy, max_depth=4, max_features=log2, n_estimators=350; total time=   0.6s\n",
      "[CV 1/5] END criterion=entropy, max_depth=4, max_features=log2, n_estimators=500; total time=   0.8s\n",
      "[CV 2/5] END criterion=entropy, max_depth=4, max_features=log2, n_estimators=500; total time=   0.8s\n",
      "[CV 3/5] END criterion=entropy, max_depth=4, max_features=log2, n_estimators=500; total time=   0.8s\n",
      "[CV 4/5] END criterion=entropy, max_depth=4, max_features=log2, n_estimators=500; total time=   1.2s\n",
      "[CV 5/5] END criterion=entropy, max_depth=4, max_features=log2, n_estimators=500; total time=   0.8s\n",
      "[CV 1/5] END criterion=entropy, max_depth=5, max_features=auto, n_estimators=100; total time=   0.1s\n",
      "[CV 2/5] END criterion=entropy, max_depth=5, max_features=auto, n_estimators=100; total time=   0.1s\n",
      "[CV 3/5] END criterion=entropy, max_depth=5, max_features=auto, n_estimators=100; total time=   0.1s\n",
      "[CV 4/5] END criterion=entropy, max_depth=5, max_features=auto, n_estimators=100; total time=   0.1s\n",
      "[CV 5/5] END criterion=entropy, max_depth=5, max_features=auto, n_estimators=100; total time=   0.1s\n",
      "[CV 1/5] END criterion=entropy, max_depth=5, max_features=auto, n_estimators=150; total time=   0.2s\n",
      "[CV 2/5] END criterion=entropy, max_depth=5, max_features=auto, n_estimators=150; total time=   0.3s\n",
      "[CV 3/5] END criterion=entropy, max_depth=5, max_features=auto, n_estimators=150; total time=   0.3s\n",
      "[CV 4/5] END criterion=entropy, max_depth=5, max_features=auto, n_estimators=150; total time=   0.3s\n",
      "[CV 5/5] END criterion=entropy, max_depth=5, max_features=auto, n_estimators=150; total time=   0.3s\n",
      "[CV 1/5] END criterion=entropy, max_depth=5, max_features=auto, n_estimators=200; total time=   0.3s\n",
      "[CV 2/5] END criterion=entropy, max_depth=5, max_features=auto, n_estimators=200; total time=   0.2s\n",
      "[CV 3/5] END criterion=entropy, max_depth=5, max_features=auto, n_estimators=200; total time=   0.3s\n",
      "[CV 4/5] END criterion=entropy, max_depth=5, max_features=auto, n_estimators=200; total time=   0.3s\n",
      "[CV 5/5] END criterion=entropy, max_depth=5, max_features=auto, n_estimators=200; total time=   0.2s\n",
      "[CV 1/5] END criterion=entropy, max_depth=5, max_features=auto, n_estimators=350; total time=   0.5s\n",
      "[CV 2/5] END criterion=entropy, max_depth=5, max_features=auto, n_estimators=350; total time=   0.5s\n",
      "[CV 3/5] END criterion=entropy, max_depth=5, max_features=auto, n_estimators=350; total time=   0.5s\n",
      "[CV 4/5] END criterion=entropy, max_depth=5, max_features=auto, n_estimators=350; total time=   0.5s\n",
      "[CV 5/5] END criterion=entropy, max_depth=5, max_features=auto, n_estimators=350; total time=   0.5s\n",
      "[CV 1/5] END criterion=entropy, max_depth=5, max_features=auto, n_estimators=500; total time=   0.7s\n",
      "[CV 2/5] END criterion=entropy, max_depth=5, max_features=auto, n_estimators=500; total time=   0.8s\n",
      "[CV 3/5] END criterion=entropy, max_depth=5, max_features=auto, n_estimators=500; total time=   0.7s\n",
      "[CV 4/5] END criterion=entropy, max_depth=5, max_features=auto, n_estimators=500; total time=   0.7s\n",
      "[CV 5/5] END criterion=entropy, max_depth=5, max_features=auto, n_estimators=500; total time=   0.7s\n",
      "[CV 1/5] END criterion=entropy, max_depth=5, max_features=sqrt, n_estimators=100; total time=   0.1s\n",
      "[CV 2/5] END criterion=entropy, max_depth=5, max_features=sqrt, n_estimators=100; total time=   0.1s\n",
      "[CV 3/5] END criterion=entropy, max_depth=5, max_features=sqrt, n_estimators=100; total time=   0.1s\n",
      "[CV 4/5] END criterion=entropy, max_depth=5, max_features=sqrt, n_estimators=100; total time=   0.1s\n",
      "[CV 5/5] END criterion=entropy, max_depth=5, max_features=sqrt, n_estimators=100; total time=   0.1s\n",
      "[CV 1/5] END criterion=entropy, max_depth=5, max_features=sqrt, n_estimators=150; total time=   0.2s\n",
      "[CV 2/5] END criterion=entropy, max_depth=5, max_features=sqrt, n_estimators=150; total time=   0.2s\n",
      "[CV 3/5] END criterion=entropy, max_depth=5, max_features=sqrt, n_estimators=150; total time=   0.2s\n",
      "[CV 4/5] END criterion=entropy, max_depth=5, max_features=sqrt, n_estimators=150; total time=   0.2s\n",
      "[CV 5/5] END criterion=entropy, max_depth=5, max_features=sqrt, n_estimators=150; total time=   0.2s\n",
      "[CV 1/5] END criterion=entropy, max_depth=5, max_features=sqrt, n_estimators=200; total time=   0.3s\n",
      "[CV 2/5] END criterion=entropy, max_depth=5, max_features=sqrt, n_estimators=200; total time=   0.2s\n",
      "[CV 3/5] END criterion=entropy, max_depth=5, max_features=sqrt, n_estimators=200; total time=   0.3s\n",
      "[CV 4/5] END criterion=entropy, max_depth=5, max_features=sqrt, n_estimators=200; total time=   0.3s\n",
      "[CV 5/5] END criterion=entropy, max_depth=5, max_features=sqrt, n_estimators=200; total time=   0.3s\n",
      "[CV 1/5] END criterion=entropy, max_depth=5, max_features=sqrt, n_estimators=350; total time=   0.5s\n",
      "[CV 2/5] END criterion=entropy, max_depth=5, max_features=sqrt, n_estimators=350; total time=   0.5s\n",
      "[CV 3/5] END criterion=entropy, max_depth=5, max_features=sqrt, n_estimators=350; total time=   0.6s\n",
      "[CV 4/5] END criterion=entropy, max_depth=5, max_features=sqrt, n_estimators=350; total time=   0.7s\n",
      "[CV 5/5] END criterion=entropy, max_depth=5, max_features=sqrt, n_estimators=350; total time=   0.6s\n",
      "[CV 1/5] END criterion=entropy, max_depth=5, max_features=sqrt, n_estimators=500; total time=   0.8s\n",
      "[CV 2/5] END criterion=entropy, max_depth=5, max_features=sqrt, n_estimators=500; total time=   0.9s\n",
      "[CV 3/5] END criterion=entropy, max_depth=5, max_features=sqrt, n_estimators=500; total time=   1.0s\n",
      "[CV 4/5] END criterion=entropy, max_depth=5, max_features=sqrt, n_estimators=500; total time=   1.1s\n",
      "[CV 5/5] END criterion=entropy, max_depth=5, max_features=sqrt, n_estimators=500; total time=   0.9s\n",
      "[CV 1/5] END criterion=entropy, max_depth=5, max_features=log2, n_estimators=100; total time=   0.1s\n"
     ]
    },
    {
     "name": "stdout",
     "output_type": "stream",
     "text": [
      "[CV 2/5] END criterion=entropy, max_depth=5, max_features=log2, n_estimators=100; total time=   0.1s\n",
      "[CV 3/5] END criterion=entropy, max_depth=5, max_features=log2, n_estimators=100; total time=   0.1s\n",
      "[CV 4/5] END criterion=entropy, max_depth=5, max_features=log2, n_estimators=100; total time=   0.1s\n",
      "[CV 5/5] END criterion=entropy, max_depth=5, max_features=log2, n_estimators=100; total time=   0.1s\n",
      "[CV 1/5] END criterion=entropy, max_depth=5, max_features=log2, n_estimators=150; total time=   0.2s\n",
      "[CV 2/5] END criterion=entropy, max_depth=5, max_features=log2, n_estimators=150; total time=   0.2s\n",
      "[CV 3/5] END criterion=entropy, max_depth=5, max_features=log2, n_estimators=150; total time=   0.2s\n",
      "[CV 4/5] END criterion=entropy, max_depth=5, max_features=log2, n_estimators=150; total time=   0.2s\n",
      "[CV 5/5] END criterion=entropy, max_depth=5, max_features=log2, n_estimators=150; total time=   0.2s\n",
      "[CV 1/5] END criterion=entropy, max_depth=5, max_features=log2, n_estimators=200; total time=   0.3s\n",
      "[CV 2/5] END criterion=entropy, max_depth=5, max_features=log2, n_estimators=200; total time=   0.2s\n",
      "[CV 3/5] END criterion=entropy, max_depth=5, max_features=log2, n_estimators=200; total time=   0.3s\n",
      "[CV 4/5] END criterion=entropy, max_depth=5, max_features=log2, n_estimators=200; total time=   0.2s\n",
      "[CV 5/5] END criterion=entropy, max_depth=5, max_features=log2, n_estimators=200; total time=   0.3s\n",
      "[CV 1/5] END criterion=entropy, max_depth=5, max_features=log2, n_estimators=350; total time=   0.5s\n",
      "[CV 2/5] END criterion=entropy, max_depth=5, max_features=log2, n_estimators=350; total time=   0.5s\n",
      "[CV 3/5] END criterion=entropy, max_depth=5, max_features=log2, n_estimators=350; total time=   0.5s\n",
      "[CV 4/5] END criterion=entropy, max_depth=5, max_features=log2, n_estimators=350; total time=   0.5s\n",
      "[CV 5/5] END criterion=entropy, max_depth=5, max_features=log2, n_estimators=350; total time=   0.5s\n",
      "[CV 1/5] END criterion=entropy, max_depth=5, max_features=log2, n_estimators=500; total time=   0.7s\n",
      "[CV 2/5] END criterion=entropy, max_depth=5, max_features=log2, n_estimators=500; total time=   0.7s\n",
      "[CV 3/5] END criterion=entropy, max_depth=5, max_features=log2, n_estimators=500; total time=   1.0s\n",
      "[CV 4/5] END criterion=entropy, max_depth=5, max_features=log2, n_estimators=500; total time=   0.8s\n",
      "[CV 5/5] END criterion=entropy, max_depth=5, max_features=log2, n_estimators=500; total time=   0.7s\n",
      "[CV 1/5] END criterion=entropy, max_depth=6, max_features=auto, n_estimators=100; total time=   0.1s\n",
      "[CV 2/5] END criterion=entropy, max_depth=6, max_features=auto, n_estimators=100; total time=   0.1s\n",
      "[CV 3/5] END criterion=entropy, max_depth=6, max_features=auto, n_estimators=100; total time=   0.1s\n",
      "[CV 4/5] END criterion=entropy, max_depth=6, max_features=auto, n_estimators=100; total time=   0.1s\n",
      "[CV 5/5] END criterion=entropy, max_depth=6, max_features=auto, n_estimators=100; total time=   0.1s\n",
      "[CV 1/5] END criterion=entropy, max_depth=6, max_features=auto, n_estimators=150; total time=   0.2s\n",
      "[CV 2/5] END criterion=entropy, max_depth=6, max_features=auto, n_estimators=150; total time=   0.2s\n",
      "[CV 3/5] END criterion=entropy, max_depth=6, max_features=auto, n_estimators=150; total time=   0.2s\n",
      "[CV 4/5] END criterion=entropy, max_depth=6, max_features=auto, n_estimators=150; total time=   0.2s\n",
      "[CV 5/5] END criterion=entropy, max_depth=6, max_features=auto, n_estimators=150; total time=   0.2s\n",
      "[CV 1/5] END criterion=entropy, max_depth=6, max_features=auto, n_estimators=200; total time=   0.3s\n",
      "[CV 2/5] END criterion=entropy, max_depth=6, max_features=auto, n_estimators=200; total time=   0.3s\n",
      "[CV 3/5] END criterion=entropy, max_depth=6, max_features=auto, n_estimators=200; total time=   0.2s\n",
      "[CV 4/5] END criterion=entropy, max_depth=6, max_features=auto, n_estimators=200; total time=   0.3s\n",
      "[CV 5/5] END criterion=entropy, max_depth=6, max_features=auto, n_estimators=200; total time=   0.3s\n",
      "[CV 1/5] END criterion=entropy, max_depth=6, max_features=auto, n_estimators=350; total time=   0.5s\n",
      "[CV 2/5] END criterion=entropy, max_depth=6, max_features=auto, n_estimators=350; total time=   0.5s\n",
      "[CV 3/5] END criterion=entropy, max_depth=6, max_features=auto, n_estimators=350; total time=   0.5s\n",
      "[CV 4/5] END criterion=entropy, max_depth=6, max_features=auto, n_estimators=350; total time=   0.5s\n",
      "[CV 5/5] END criterion=entropy, max_depth=6, max_features=auto, n_estimators=350; total time=   0.5s\n",
      "[CV 1/5] END criterion=entropy, max_depth=6, max_features=auto, n_estimators=500; total time=   0.8s\n",
      "[CV 2/5] END criterion=entropy, max_depth=6, max_features=auto, n_estimators=500; total time=   0.8s\n",
      "[CV 3/5] END criterion=entropy, max_depth=6, max_features=auto, n_estimators=500; total time=   0.8s\n",
      "[CV 4/5] END criterion=entropy, max_depth=6, max_features=auto, n_estimators=500; total time=   0.8s\n",
      "[CV 5/5] END criterion=entropy, max_depth=6, max_features=auto, n_estimators=500; total time=   0.8s\n",
      "[CV 1/5] END criterion=entropy, max_depth=6, max_features=sqrt, n_estimators=100; total time=   0.1s\n",
      "[CV 2/5] END criterion=entropy, max_depth=6, max_features=sqrt, n_estimators=100; total time=   0.2s\n",
      "[CV 3/5] END criterion=entropy, max_depth=6, max_features=sqrt, n_estimators=100; total time=   0.3s\n",
      "[CV 4/5] END criterion=entropy, max_depth=6, max_features=sqrt, n_estimators=100; total time=   0.1s\n",
      "[CV 5/5] END criterion=entropy, max_depth=6, max_features=sqrt, n_estimators=100; total time=   0.1s\n",
      "[CV 1/5] END criterion=entropy, max_depth=6, max_features=sqrt, n_estimators=150; total time=   0.2s\n",
      "[CV 2/5] END criterion=entropy, max_depth=6, max_features=sqrt, n_estimators=150; total time=   0.2s\n",
      "[CV 3/5] END criterion=entropy, max_depth=6, max_features=sqrt, n_estimators=150; total time=   0.2s\n",
      "[CV 4/5] END criterion=entropy, max_depth=6, max_features=sqrt, n_estimators=150; total time=   0.3s\n",
      "[CV 5/5] END criterion=entropy, max_depth=6, max_features=sqrt, n_estimators=150; total time=   0.2s\n",
      "[CV 1/5] END criterion=entropy, max_depth=6, max_features=sqrt, n_estimators=200; total time=   0.3s\n",
      "[CV 2/5] END criterion=entropy, max_depth=6, max_features=sqrt, n_estimators=200; total time=   0.3s\n",
      "[CV 3/5] END criterion=entropy, max_depth=6, max_features=sqrt, n_estimators=200; total time=   0.3s\n",
      "[CV 4/5] END criterion=entropy, max_depth=6, max_features=sqrt, n_estimators=200; total time=   0.2s\n",
      "[CV 5/5] END criterion=entropy, max_depth=6, max_features=sqrt, n_estimators=200; total time=   0.3s\n",
      "[CV 1/5] END criterion=entropy, max_depth=6, max_features=sqrt, n_estimators=350; total time=   0.5s\n",
      "[CV 2/5] END criterion=entropy, max_depth=6, max_features=sqrt, n_estimators=350; total time=   0.5s\n",
      "[CV 3/5] END criterion=entropy, max_depth=6, max_features=sqrt, n_estimators=350; total time=   0.5s\n",
      "[CV 4/5] END criterion=entropy, max_depth=6, max_features=sqrt, n_estimators=350; total time=   0.5s\n",
      "[CV 5/5] END criterion=entropy, max_depth=6, max_features=sqrt, n_estimators=350; total time=   0.5s\n",
      "[CV 1/5] END criterion=entropy, max_depth=6, max_features=sqrt, n_estimators=500; total time=   0.8s\n",
      "[CV 2/5] END criterion=entropy, max_depth=6, max_features=sqrt, n_estimators=500; total time=   0.8s\n",
      "[CV 3/5] END criterion=entropy, max_depth=6, max_features=sqrt, n_estimators=500; total time=   0.8s\n",
      "[CV 4/5] END criterion=entropy, max_depth=6, max_features=sqrt, n_estimators=500; total time=   0.8s\n",
      "[CV 5/5] END criterion=entropy, max_depth=6, max_features=sqrt, n_estimators=500; total time=   0.8s\n",
      "[CV 1/5] END criterion=entropy, max_depth=6, max_features=log2, n_estimators=100; total time=   0.1s\n",
      "[CV 2/5] END criterion=entropy, max_depth=6, max_features=log2, n_estimators=100; total time=   0.1s\n",
      "[CV 3/5] END criterion=entropy, max_depth=6, max_features=log2, n_estimators=100; total time=   0.1s\n",
      "[CV 4/5] END criterion=entropy, max_depth=6, max_features=log2, n_estimators=100; total time=   0.1s\n",
      "[CV 5/5] END criterion=entropy, max_depth=6, max_features=log2, n_estimators=100; total time=   0.1s\n",
      "[CV 1/5] END criterion=entropy, max_depth=6, max_features=log2, n_estimators=150; total time=   0.2s\n",
      "[CV 2/5] END criterion=entropy, max_depth=6, max_features=log2, n_estimators=150; total time=   0.2s\n",
      "[CV 3/5] END criterion=entropy, max_depth=6, max_features=log2, n_estimators=150; total time=   0.2s\n"
     ]
    },
    {
     "name": "stdout",
     "output_type": "stream",
     "text": [
      "[CV 4/5] END criterion=entropy, max_depth=6, max_features=log2, n_estimators=150; total time=   0.2s\n",
      "[CV 5/5] END criterion=entropy, max_depth=6, max_features=log2, n_estimators=150; total time=   0.2s\n",
      "[CV 1/5] END criterion=entropy, max_depth=6, max_features=log2, n_estimators=200; total time=   0.3s\n",
      "[CV 2/5] END criterion=entropy, max_depth=6, max_features=log2, n_estimators=200; total time=   0.3s\n",
      "[CV 3/5] END criterion=entropy, max_depth=6, max_features=log2, n_estimators=200; total time=   0.3s\n",
      "[CV 4/5] END criterion=entropy, max_depth=6, max_features=log2, n_estimators=200; total time=   0.3s\n",
      "[CV 5/5] END criterion=entropy, max_depth=6, max_features=log2, n_estimators=200; total time=   0.3s\n",
      "[CV 1/5] END criterion=entropy, max_depth=6, max_features=log2, n_estimators=350; total time=   0.5s\n",
      "[CV 2/5] END criterion=entropy, max_depth=6, max_features=log2, n_estimators=350; total time=   0.5s\n",
      "[CV 3/5] END criterion=entropy, max_depth=6, max_features=log2, n_estimators=350; total time=   0.5s\n",
      "[CV 4/5] END criterion=entropy, max_depth=6, max_features=log2, n_estimators=350; total time=   0.7s\n",
      "[CV 5/5] END criterion=entropy, max_depth=6, max_features=log2, n_estimators=350; total time=   0.6s\n",
      "[CV 1/5] END criterion=entropy, max_depth=6, max_features=log2, n_estimators=500; total time=   1.1s\n",
      "[CV 2/5] END criterion=entropy, max_depth=6, max_features=log2, n_estimators=500; total time=   0.9s\n",
      "[CV 3/5] END criterion=entropy, max_depth=6, max_features=log2, n_estimators=500; total time=   0.9s\n",
      "[CV 4/5] END criterion=entropy, max_depth=6, max_features=log2, n_estimators=500; total time=   1.1s\n",
      "[CV 5/5] END criterion=entropy, max_depth=6, max_features=log2, n_estimators=500; total time=   1.1s\n",
      "[CV 1/5] END criterion=entropy, max_depth=7, max_features=auto, n_estimators=100; total time=   0.1s\n",
      "[CV 2/5] END criterion=entropy, max_depth=7, max_features=auto, n_estimators=100; total time=   0.2s\n",
      "[CV 3/5] END criterion=entropy, max_depth=7, max_features=auto, n_estimators=100; total time=   0.1s\n",
      "[CV 4/5] END criterion=entropy, max_depth=7, max_features=auto, n_estimators=100; total time=   0.2s\n",
      "[CV 5/5] END criterion=entropy, max_depth=7, max_features=auto, n_estimators=100; total time=   0.1s\n",
      "[CV 1/5] END criterion=entropy, max_depth=7, max_features=auto, n_estimators=150; total time=   0.2s\n",
      "[CV 2/5] END criterion=entropy, max_depth=7, max_features=auto, n_estimators=150; total time=   0.2s\n",
      "[CV 3/5] END criterion=entropy, max_depth=7, max_features=auto, n_estimators=150; total time=   0.2s\n",
      "[CV 4/5] END criterion=entropy, max_depth=7, max_features=auto, n_estimators=150; total time=   0.2s\n",
      "[CV 5/5] END criterion=entropy, max_depth=7, max_features=auto, n_estimators=150; total time=   0.2s\n",
      "[CV 1/5] END criterion=entropy, max_depth=7, max_features=auto, n_estimators=200; total time=   0.3s\n",
      "[CV 2/5] END criterion=entropy, max_depth=7, max_features=auto, n_estimators=200; total time=   0.4s\n",
      "[CV 3/5] END criterion=entropy, max_depth=7, max_features=auto, n_estimators=200; total time=   0.3s\n",
      "[CV 4/5] END criterion=entropy, max_depth=7, max_features=auto, n_estimators=200; total time=   0.3s\n",
      "[CV 5/5] END criterion=entropy, max_depth=7, max_features=auto, n_estimators=200; total time=   0.3s\n",
      "[CV 1/5] END criterion=entropy, max_depth=7, max_features=auto, n_estimators=350; total time=   0.7s\n",
      "[CV 2/5] END criterion=entropy, max_depth=7, max_features=auto, n_estimators=350; total time=   0.9s\n",
      "[CV 3/5] END criterion=entropy, max_depth=7, max_features=auto, n_estimators=350; total time=   0.8s\n",
      "[CV 4/5] END criterion=entropy, max_depth=7, max_features=auto, n_estimators=350; total time=   0.7s\n",
      "[CV 5/5] END criterion=entropy, max_depth=7, max_features=auto, n_estimators=350; total time=   0.6s\n",
      "[CV 1/5] END criterion=entropy, max_depth=7, max_features=auto, n_estimators=500; total time=   1.3s\n",
      "[CV 2/5] END criterion=entropy, max_depth=7, max_features=auto, n_estimators=500; total time=   1.0s\n",
      "[CV 3/5] END criterion=entropy, max_depth=7, max_features=auto, n_estimators=500; total time=   0.9s\n",
      "[CV 4/5] END criterion=entropy, max_depth=7, max_features=auto, n_estimators=500; total time=   0.9s\n",
      "[CV 5/5] END criterion=entropy, max_depth=7, max_features=auto, n_estimators=500; total time=   0.9s\n",
      "[CV 1/5] END criterion=entropy, max_depth=7, max_features=sqrt, n_estimators=100; total time=   0.1s\n",
      "[CV 2/5] END criterion=entropy, max_depth=7, max_features=sqrt, n_estimators=100; total time=   0.2s\n",
      "[CV 3/5] END criterion=entropy, max_depth=7, max_features=sqrt, n_estimators=100; total time=   0.1s\n",
      "[CV 4/5] END criterion=entropy, max_depth=7, max_features=sqrt, n_estimators=100; total time=   0.1s\n",
      "[CV 5/5] END criterion=entropy, max_depth=7, max_features=sqrt, n_estimators=100; total time=   0.1s\n",
      "[CV 1/5] END criterion=entropy, max_depth=7, max_features=sqrt, n_estimators=150; total time=   0.2s\n",
      "[CV 2/5] END criterion=entropy, max_depth=7, max_features=sqrt, n_estimators=150; total time=   0.2s\n",
      "[CV 3/5] END criterion=entropy, max_depth=7, max_features=sqrt, n_estimators=150; total time=   0.2s\n",
      "[CV 4/5] END criterion=entropy, max_depth=7, max_features=sqrt, n_estimators=150; total time=   0.2s\n",
      "[CV 5/5] END criterion=entropy, max_depth=7, max_features=sqrt, n_estimators=150; total time=   0.2s\n",
      "[CV 1/5] END criterion=entropy, max_depth=7, max_features=sqrt, n_estimators=200; total time=   0.3s\n",
      "[CV 2/5] END criterion=entropy, max_depth=7, max_features=sqrt, n_estimators=200; total time=   0.3s\n",
      "[CV 3/5] END criterion=entropy, max_depth=7, max_features=sqrt, n_estimators=200; total time=   0.3s\n",
      "[CV 4/5] END criterion=entropy, max_depth=7, max_features=sqrt, n_estimators=200; total time=   0.3s\n",
      "[CV 5/5] END criterion=entropy, max_depth=7, max_features=sqrt, n_estimators=200; total time=   0.3s\n",
      "[CV 1/5] END criterion=entropy, max_depth=7, max_features=sqrt, n_estimators=350; total time=   0.6s\n",
      "[CV 2/5] END criterion=entropy, max_depth=7, max_features=sqrt, n_estimators=350; total time=   0.6s\n",
      "[CV 3/5] END criterion=entropy, max_depth=7, max_features=sqrt, n_estimators=350; total time=   0.6s\n",
      "[CV 4/5] END criterion=entropy, max_depth=7, max_features=sqrt, n_estimators=350; total time=   0.6s\n",
      "[CV 5/5] END criterion=entropy, max_depth=7, max_features=sqrt, n_estimators=350; total time=   0.6s\n",
      "[CV 1/5] END criterion=entropy, max_depth=7, max_features=sqrt, n_estimators=500; total time=   0.9s\n",
      "[CV 2/5] END criterion=entropy, max_depth=7, max_features=sqrt, n_estimators=500; total time=   1.2s\n",
      "[CV 3/5] END criterion=entropy, max_depth=7, max_features=sqrt, n_estimators=500; total time=   1.2s\n",
      "[CV 4/5] END criterion=entropy, max_depth=7, max_features=sqrt, n_estimators=500; total time=   0.9s\n",
      "[CV 5/5] END criterion=entropy, max_depth=7, max_features=sqrt, n_estimators=500; total time=   0.9s\n",
      "[CV 1/5] END criterion=entropy, max_depth=7, max_features=log2, n_estimators=100; total time=   0.1s\n",
      "[CV 2/5] END criterion=entropy, max_depth=7, max_features=log2, n_estimators=100; total time=   0.1s\n",
      "[CV 3/5] END criterion=entropy, max_depth=7, max_features=log2, n_estimators=100; total time=   0.1s\n",
      "[CV 4/5] END criterion=entropy, max_depth=7, max_features=log2, n_estimators=100; total time=   0.1s\n",
      "[CV 5/5] END criterion=entropy, max_depth=7, max_features=log2, n_estimators=100; total time=   0.1s\n",
      "[CV 1/5] END criterion=entropy, max_depth=7, max_features=log2, n_estimators=150; total time=   0.5s\n",
      "[CV 2/5] END criterion=entropy, max_depth=7, max_features=log2, n_estimators=150; total time=   0.2s\n",
      "[CV 3/5] END criterion=entropy, max_depth=7, max_features=log2, n_estimators=150; total time=   0.2s\n",
      "[CV 4/5] END criterion=entropy, max_depth=7, max_features=log2, n_estimators=150; total time=   0.2s\n",
      "[CV 5/5] END criterion=entropy, max_depth=7, max_features=log2, n_estimators=150; total time=   0.2s\n",
      "[CV 1/5] END criterion=entropy, max_depth=7, max_features=log2, n_estimators=200; total time=   0.3s\n",
      "[CV 2/5] END criterion=entropy, max_depth=7, max_features=log2, n_estimators=200; total time=   0.3s\n",
      "[CV 3/5] END criterion=entropy, max_depth=7, max_features=log2, n_estimators=200; total time=   0.3s\n",
      "[CV 4/5] END criterion=entropy, max_depth=7, max_features=log2, n_estimators=200; total time=   0.4s\n",
      "[CV 5/5] END criterion=entropy, max_depth=7, max_features=log2, n_estimators=200; total time=   0.4s\n"
     ]
    },
    {
     "name": "stdout",
     "output_type": "stream",
     "text": [
      "[CV 1/5] END criterion=entropy, max_depth=7, max_features=log2, n_estimators=350; total time=   0.6s\n",
      "[CV 2/5] END criterion=entropy, max_depth=7, max_features=log2, n_estimators=350; total time=   0.6s\n",
      "[CV 3/5] END criterion=entropy, max_depth=7, max_features=log2, n_estimators=350; total time=   0.6s\n",
      "[CV 4/5] END criterion=entropy, max_depth=7, max_features=log2, n_estimators=350; total time=   0.6s\n",
      "[CV 5/5] END criterion=entropy, max_depth=7, max_features=log2, n_estimators=350; total time=   0.6s\n",
      "[CV 1/5] END criterion=entropy, max_depth=7, max_features=log2, n_estimators=500; total time=   0.9s\n",
      "[CV 2/5] END criterion=entropy, max_depth=7, max_features=log2, n_estimators=500; total time=   0.9s\n",
      "[CV 3/5] END criterion=entropy, max_depth=7, max_features=log2, n_estimators=500; total time=   0.9s\n",
      "[CV 4/5] END criterion=entropy, max_depth=7, max_features=log2, n_estimators=500; total time=   1.2s\n",
      "[CV 5/5] END criterion=entropy, max_depth=7, max_features=log2, n_estimators=500; total time=   1.1s\n",
      "[CV 1/5] END criterion=entropy, max_depth=8, max_features=auto, n_estimators=100; total time=   0.1s\n",
      "[CV 2/5] END criterion=entropy, max_depth=8, max_features=auto, n_estimators=100; total time=   0.1s\n",
      "[CV 3/5] END criterion=entropy, max_depth=8, max_features=auto, n_estimators=100; total time=   0.1s\n",
      "[CV 4/5] END criterion=entropy, max_depth=8, max_features=auto, n_estimators=100; total time=   0.1s\n",
      "[CV 5/5] END criterion=entropy, max_depth=8, max_features=auto, n_estimators=100; total time=   0.1s\n",
      "[CV 1/5] END criterion=entropy, max_depth=8, max_features=auto, n_estimators=150; total time=   0.2s\n",
      "[CV 2/5] END criterion=entropy, max_depth=8, max_features=auto, n_estimators=150; total time=   0.2s\n",
      "[CV 3/5] END criterion=entropy, max_depth=8, max_features=auto, n_estimators=150; total time=   0.2s\n",
      "[CV 4/5] END criterion=entropy, max_depth=8, max_features=auto, n_estimators=150; total time=   0.3s\n",
      "[CV 5/5] END criterion=entropy, max_depth=8, max_features=auto, n_estimators=150; total time=   0.2s\n",
      "[CV 1/5] END criterion=entropy, max_depth=8, max_features=auto, n_estimators=200; total time=   0.5s\n",
      "[CV 2/5] END criterion=entropy, max_depth=8, max_features=auto, n_estimators=200; total time=   0.3s\n",
      "[CV 3/5] END criterion=entropy, max_depth=8, max_features=auto, n_estimators=200; total time=   0.3s\n",
      "[CV 4/5] END criterion=entropy, max_depth=8, max_features=auto, n_estimators=200; total time=   0.3s\n",
      "[CV 5/5] END criterion=entropy, max_depth=8, max_features=auto, n_estimators=200; total time=   0.3s\n",
      "[CV 1/5] END criterion=entropy, max_depth=8, max_features=auto, n_estimators=350; total time=   0.6s\n",
      "[CV 2/5] END criterion=entropy, max_depth=8, max_features=auto, n_estimators=350; total time=   0.6s\n",
      "[CV 3/5] END criterion=entropy, max_depth=8, max_features=auto, n_estimators=350; total time=   0.6s\n",
      "[CV 4/5] END criterion=entropy, max_depth=8, max_features=auto, n_estimators=350; total time=   0.6s\n",
      "[CV 5/5] END criterion=entropy, max_depth=8, max_features=auto, n_estimators=350; total time=   0.6s\n",
      "[CV 1/5] END criterion=entropy, max_depth=8, max_features=auto, n_estimators=500; total time=   0.9s\n",
      "[CV 2/5] END criterion=entropy, max_depth=8, max_features=auto, n_estimators=500; total time=   0.9s\n",
      "[CV 3/5] END criterion=entropy, max_depth=8, max_features=auto, n_estimators=500; total time=   0.9s\n",
      "[CV 4/5] END criterion=entropy, max_depth=8, max_features=auto, n_estimators=500; total time=   1.2s\n",
      "[CV 5/5] END criterion=entropy, max_depth=8, max_features=auto, n_estimators=500; total time=   1.1s\n",
      "[CV 1/5] END criterion=entropy, max_depth=8, max_features=sqrt, n_estimators=100; total time=   0.2s\n",
      "[CV 2/5] END criterion=entropy, max_depth=8, max_features=sqrt, n_estimators=100; total time=   0.2s\n",
      "[CV 3/5] END criterion=entropy, max_depth=8, max_features=sqrt, n_estimators=100; total time=   0.2s\n",
      "[CV 4/5] END criterion=entropy, max_depth=8, max_features=sqrt, n_estimators=100; total time=   0.2s\n",
      "[CV 5/5] END criterion=entropy, max_depth=8, max_features=sqrt, n_estimators=100; total time=   0.1s\n",
      "[CV 1/5] END criterion=entropy, max_depth=8, max_features=sqrt, n_estimators=150; total time=   0.2s\n",
      "[CV 2/5] END criterion=entropy, max_depth=8, max_features=sqrt, n_estimators=150; total time=   0.2s\n",
      "[CV 3/5] END criterion=entropy, max_depth=8, max_features=sqrt, n_estimators=150; total time=   0.2s\n",
      "[CV 4/5] END criterion=entropy, max_depth=8, max_features=sqrt, n_estimators=150; total time=   0.2s\n",
      "[CV 5/5] END criterion=entropy, max_depth=8, max_features=sqrt, n_estimators=150; total time=   0.2s\n",
      "[CV 1/5] END criterion=entropy, max_depth=8, max_features=sqrt, n_estimators=200; total time=   0.3s\n",
      "[CV 2/5] END criterion=entropy, max_depth=8, max_features=sqrt, n_estimators=200; total time=   0.3s\n",
      "[CV 3/5] END criterion=entropy, max_depth=8, max_features=sqrt, n_estimators=200; total time=   0.3s\n",
      "[CV 4/5] END criterion=entropy, max_depth=8, max_features=sqrt, n_estimators=200; total time=   0.3s\n",
      "[CV 5/5] END criterion=entropy, max_depth=8, max_features=sqrt, n_estimators=200; total time=   0.3s\n",
      "[CV 1/5] END criterion=entropy, max_depth=8, max_features=sqrt, n_estimators=350; total time=   0.6s\n",
      "[CV 2/5] END criterion=entropy, max_depth=8, max_features=sqrt, n_estimators=350; total time=   0.7s\n",
      "[CV 3/5] END criterion=entropy, max_depth=8, max_features=sqrt, n_estimators=350; total time=   0.7s\n",
      "[CV 4/5] END criterion=entropy, max_depth=8, max_features=sqrt, n_estimators=350; total time=   0.7s\n",
      "[CV 5/5] END criterion=entropy, max_depth=8, max_features=sqrt, n_estimators=350; total time=   0.7s\n",
      "[CV 1/5] END criterion=entropy, max_depth=8, max_features=sqrt, n_estimators=500; total time=   0.8s\n",
      "[CV 2/5] END criterion=entropy, max_depth=8, max_features=sqrt, n_estimators=500; total time=   1.0s\n",
      "[CV 3/5] END criterion=entropy, max_depth=8, max_features=sqrt, n_estimators=500; total time=   1.1s\n",
      "[CV 4/5] END criterion=entropy, max_depth=8, max_features=sqrt, n_estimators=500; total time=   1.1s\n",
      "[CV 5/5] END criterion=entropy, max_depth=8, max_features=sqrt, n_estimators=500; total time=   1.1s\n",
      "[CV 1/5] END criterion=entropy, max_depth=8, max_features=log2, n_estimators=100; total time=   0.1s\n",
      "[CV 2/5] END criterion=entropy, max_depth=8, max_features=log2, n_estimators=100; total time=   0.1s\n",
      "[CV 3/5] END criterion=entropy, max_depth=8, max_features=log2, n_estimators=100; total time=   0.1s\n",
      "[CV 4/5] END criterion=entropy, max_depth=8, max_features=log2, n_estimators=100; total time=   0.1s\n",
      "[CV 5/5] END criterion=entropy, max_depth=8, max_features=log2, n_estimators=100; total time=   0.1s\n",
      "[CV 1/5] END criterion=entropy, max_depth=8, max_features=log2, n_estimators=150; total time=   0.2s\n",
      "[CV 2/5] END criterion=entropy, max_depth=8, max_features=log2, n_estimators=150; total time=   0.3s\n",
      "[CV 3/5] END criterion=entropy, max_depth=8, max_features=log2, n_estimators=150; total time=   0.3s\n",
      "[CV 4/5] END criterion=entropy, max_depth=8, max_features=log2, n_estimators=150; total time=   0.3s\n",
      "[CV 5/5] END criterion=entropy, max_depth=8, max_features=log2, n_estimators=150; total time=   0.2s\n",
      "[CV 1/5] END criterion=entropy, max_depth=8, max_features=log2, n_estimators=200; total time=   0.3s\n",
      "[CV 2/5] END criterion=entropy, max_depth=8, max_features=log2, n_estimators=200; total time=   0.3s\n",
      "[CV 3/5] END criterion=entropy, max_depth=8, max_features=log2, n_estimators=200; total time=   0.3s\n",
      "[CV 4/5] END criterion=entropy, max_depth=8, max_features=log2, n_estimators=200; total time=   0.3s\n",
      "[CV 5/5] END criterion=entropy, max_depth=8, max_features=log2, n_estimators=200; total time=   0.3s\n",
      "[CV 1/5] END criterion=entropy, max_depth=8, max_features=log2, n_estimators=350; total time=   0.5s\n",
      "[CV 2/5] END criterion=entropy, max_depth=8, max_features=log2, n_estimators=350; total time=   0.5s\n",
      "[CV 3/5] END criterion=entropy, max_depth=8, max_features=log2, n_estimators=350; total time=   0.5s\n",
      "[CV 4/5] END criterion=entropy, max_depth=8, max_features=log2, n_estimators=350; total time=   0.5s\n",
      "[CV 5/5] END criterion=entropy, max_depth=8, max_features=log2, n_estimators=350; total time=   0.5s\n",
      "[CV 1/5] END criterion=entropy, max_depth=8, max_features=log2, n_estimators=500; total time=   0.8s\n",
      "[CV 2/5] END criterion=entropy, max_depth=8, max_features=log2, n_estimators=500; total time=   0.8s\n"
     ]
    },
    {
     "name": "stdout",
     "output_type": "stream",
     "text": [
      "[CV 3/5] END criterion=entropy, max_depth=8, max_features=log2, n_estimators=500; total time=   0.8s\n",
      "[CV 4/5] END criterion=entropy, max_depth=8, max_features=log2, n_estimators=500; total time=   0.8s\n",
      "[CV 5/5] END criterion=entropy, max_depth=8, max_features=log2, n_estimators=500; total time=   0.8s\n"
     ]
    },
    {
     "data": {
      "text/plain": [
       "GridSearchCV(estimator=RandomForestClassifier(),\n",
       "             param_grid={'criterion': ['gini', 'entropy'],\n",
       "                         'max_depth': [4, 5, 6, 7, 8],\n",
       "                         'max_features': ['auto', 'sqrt', 'log2'],\n",
       "                         'n_estimators': [100, 150, 200, 350, 500]},\n",
       "             verbose=3)"
      ]
     },
     "execution_count": 54,
     "metadata": {},
     "output_type": "execute_result"
    }
   ],
   "source": [
    "grid_rfc.fit(X_train,y_train)"
   ]
  },
  {
   "cell_type": "code",
   "execution_count": 55,
   "id": "d6ef508d",
   "metadata": {},
   "outputs": [
    {
     "data": {
      "text/plain": [
       "{'criterion': 'gini',\n",
       " 'max_depth': 8,\n",
       " 'max_features': 'log2',\n",
       " 'n_estimators': 200}"
      ]
     },
     "execution_count": 55,
     "metadata": {},
     "output_type": "execute_result"
    }
   ],
   "source": [
    "grid_rfc.best_params_"
   ]
  },
  {
   "cell_type": "code",
   "execution_count": 56,
   "id": "172ef541",
   "metadata": {},
   "outputs": [
    {
     "data": {
      "text/plain": [
       "RandomForestClassifier(max_depth=8, max_features='log2', n_estimators=200)"
      ]
     },
     "execution_count": 56,
     "metadata": {},
     "output_type": "execute_result"
    }
   ],
   "source": [
    "grid_rfc.best_estimator_"
   ]
  },
  {
   "cell_type": "code",
   "execution_count": 57,
   "id": "1519f967",
   "metadata": {},
   "outputs": [],
   "source": [
    "grid_rfc_predictions = grid_rfc.predict(X_test)"
   ]
  },
  {
   "cell_type": "code",
   "execution_count": 58,
   "id": "ddad4df3",
   "metadata": {},
   "outputs": [
    {
     "name": "stdout",
     "output_type": "stream",
     "text": [
      "0.8577235772357723\n",
      "[[ 99  12]\n",
      " [ 23 112]]\n",
      "              precision    recall  f1-score   support\n",
      "\n",
      "           0       0.81      0.89      0.85       111\n",
      "           1       0.90      0.83      0.86       135\n",
      "\n",
      "    accuracy                           0.86       246\n",
      "   macro avg       0.86      0.86      0.86       246\n",
      "weighted avg       0.86      0.86      0.86       246\n",
      "\n"
     ]
    }
   ],
   "source": [
    "print(accuracy_score(y_test,grid_rfc_predictions))\n",
    "print(confusion_matrix(y_test,grid_rfc_predictions))\n",
    "print(classification_report(y_test,grid_rfc_predictions))"
   ]
  },
  {
   "cell_type": "markdown",
   "id": "bc792da0",
   "metadata": {},
   "source": [
    "# CONCLUSION"
   ]
  },
  {
   "cell_type": "markdown",
   "id": "e53795c2",
   "metadata": {},
   "source": [
    "#### From the EDA and modeling process some point need to be highlighted:\n",
    "    1) From this data we can see that higher number of transactions, number of orders, and number of payment lead to higher     \n",
    "       probability of fraud transaction. To prefent the fraudulence the company should set maximum transaction\n",
    "    2) The bitcoin payment method has 68% registration failure and also 66% fraud transaction. Company should re-consider to  \n",
    "       allow this payment method on the future.\n",
    "    3) We choose the Random Forest Classifier (RFC) for this case because the behaviour of the data (especially transaction   \n",
    "       amount that has higher correlation) that shown in heatmap is not linearly separable.\n",
    "       We also do the hyper parameter tuning using grid search sv to get the best parameter to be fit with the RFC model.\n",
    "    4) Based on confusion matrix we got 85% accuracy, which means we got 85% total correct predictions compare to total \n",
    "       numbers of observation.\n",
    "    5) Precission for 1 class (fraud) we got 90% means we got 90% total correct fraud predictions compare to total numer  \n",
    "       observation for fraud class. Same explanation for 0 class (non fraud).\n",
    "    6) Recall for 1 class (fraud) we got 82% means we got 82% total correct fraud predictions compare to total observation       \n",
    "       for actual fraud numbers. Same explanation for 0 class (non fraud)."
   ]
  },
  {
   "cell_type": "code",
   "execution_count": null,
   "id": "ba26326d",
   "metadata": {},
   "outputs": [],
   "source": []
  }
 ],
 "metadata": {
  "kernelspec": {
   "display_name": "Python 3",
   "language": "python",
   "name": "python3"
  },
  "language_info": {
   "codemirror_mode": {
    "name": "ipython",
    "version": 3
   },
   "file_extension": ".py",
   "mimetype": "text/x-python",
   "name": "python",
   "nbconvert_exporter": "python",
   "pygments_lexer": "ipython3",
   "version": "3.8.8"
  }
 },
 "nbformat": 4,
 "nbformat_minor": 5
}
